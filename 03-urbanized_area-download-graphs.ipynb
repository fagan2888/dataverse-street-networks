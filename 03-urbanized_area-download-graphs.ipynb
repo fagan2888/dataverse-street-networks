{
 "cells": [
  {
   "cell_type": "markdown",
   "metadata": {},
   "source": [
    "## Download urbanized areas' street networks\n",
    "\n",
    "Using census tigerline shapefile of 2017 urban areas"
   ]
  },
  {
   "cell_type": "code",
   "execution_count": 1,
   "metadata": {},
   "outputs": [
    {
     "name": "stdout",
     "output_type": "stream",
     "text": [
      "0.7.4\n",
      "2.1\n"
     ]
    }
   ],
   "source": [
    "import config\n",
    "import geopandas as gpd\n",
    "import json\n",
    "import logging as lg\n",
    "import networkx as nx\n",
    "import os\n",
    "import osmnx as ox\n",
    "import pandas as pd\n",
    "import time\n",
    "\n",
    "ox.config(use_cache=True,\n",
    "          log_file=True,\n",
    "          log_console=True,\n",
    "          log_filename='download-urbanized_areas',\n",
    "          cache_folder=config.urbanized_areas_cache_folder)\n",
    "\n",
    "print(ox.__version__)\n",
    "print(nx.__version__)"
   ]
  },
  {
   "cell_type": "code",
   "execution_count": 2,
   "metadata": {},
   "outputs": [],
   "source": [
    "network_type = 'drive'\n",
    "retain_all = True\n",
    "simplify = True\n",
    "\n",
    "input_folder = 'input_data/urbanized_areas' #tiger place shapefiles\n",
    "output_folder_shapefile = config.urbanized_areas_shapefile_folder #where to save graph shapefiles\n",
    "output_folder_graphml = config.urbanized_areas_graphml_folder #where to save graphml files"
   ]
  },
  {
   "cell_type": "markdown",
   "metadata": {},
   "source": [
    "## Load shapes"
   ]
  },
  {
   "cell_type": "code",
   "execution_count": 3,
   "metadata": {},
   "outputs": [],
   "source": [
    "with open('input_data/states_by_fips.json') as f:\n",
    "    fips_to_state = json.load(f)\n",
    "\n",
    "st_fips = {v['abbreviation']:k for k, v in fips_to_state.items()}"
   ]
  },
  {
   "cell_type": "code",
   "execution_count": 4,
   "metadata": {},
   "outputs": [
    {
     "data": {
      "text/plain": [
       "3601"
      ]
     },
     "execution_count": 4,
     "metadata": {},
     "output_type": "execute_result"
    }
   ],
   "source": [
    "gdf = gpd.read_file(input_folder).sort_values(by='ALAND10', ascending=True)\n",
    "len(gdf)"
   ]
  },
  {
   "cell_type": "code",
   "execution_count": 5,
   "metadata": {},
   "outputs": [
    {
     "data": {
      "text/plain": [
       "497"
      ]
     },
     "execution_count": 5,
     "metadata": {},
     "output_type": "execute_result"
    }
   ],
   "source": [
    "# remove the tiny \"urban clusters\" to retain only \"urbanized areas\"\n",
    "urbanized_areas = gdf[~gdf['NAMELSAD10'].str.contains('Urban Cluster')]\n",
    "len(urbanized_areas)"
   ]
  },
  {
   "cell_type": "code",
   "execution_count": 6,
   "metadata": {},
   "outputs": [
    {
     "name": "stdout",
     "output_type": "stream",
     "text": [
      "{'init': 'epsg:4269'}\n"
     ]
    },
    {
     "data": {
      "text/plain": [
       "{'init': 'epsg:4326'}"
      ]
     },
     "execution_count": 6,
     "metadata": {},
     "output_type": "execute_result"
    }
   ],
   "source": [
    "# tigerline data is epsg:4269, but osm uses epsg:4326, so project it\n",
    "print(urbanized_areas.crs)\n",
    "urbanized_areas = urbanized_areas.to_crs({'init':'epsg:4326'})\n",
    "urbanized_areas.crs"
   ]
  },
  {
   "cell_type": "code",
   "execution_count": 7,
   "metadata": {},
   "outputs": [
    {
     "data": {
      "text/html": [
       "<div>\n",
       "<style scoped>\n",
       "    .dataframe tbody tr th:only-of-type {\n",
       "        vertical-align: middle;\n",
       "    }\n",
       "\n",
       "    .dataframe tbody tr th {\n",
       "        vertical-align: top;\n",
       "    }\n",
       "\n",
       "    .dataframe thead th {\n",
       "        text-align: right;\n",
       "    }\n",
       "</style>\n",
       "<table border=\"1\" class=\"dataframe\">\n",
       "  <thead>\n",
       "    <tr style=\"text-align: right;\">\n",
       "      <th></th>\n",
       "      <th>ALAND10</th>\n",
       "      <th>NAMELSAD10</th>\n",
       "      <th>GEOID10</th>\n",
       "    </tr>\n",
       "  </thead>\n",
       "  <tbody>\n",
       "    <tr>\n",
       "      <th>1593</th>\n",
       "      <td>4852213624</td>\n",
       "      <td>Boston, MA--NH--RI Urbanized Area</td>\n",
       "      <td>09271</td>\n",
       "    </tr>\n",
       "    <tr>\n",
       "      <th>2546</th>\n",
       "      <td>5131722319</td>\n",
       "      <td>Philadelphia, PA--NJ--DE--MD Urbanized Area</td>\n",
       "      <td>69076</td>\n",
       "    </tr>\n",
       "    <tr>\n",
       "      <th>3250</th>\n",
       "      <td>6323669758</td>\n",
       "      <td>Chicago, IL--IN Urbanized Area</td>\n",
       "      <td>16264</td>\n",
       "    </tr>\n",
       "    <tr>\n",
       "      <th>3002</th>\n",
       "      <td>6850603579</td>\n",
       "      <td>Atlanta, GA Urbanized Area</td>\n",
       "      <td>03817</td>\n",
       "    </tr>\n",
       "    <tr>\n",
       "      <th>2321</th>\n",
       "      <td>8934395320</td>\n",
       "      <td>New York--Newark, NY--NJ--CT Urbanized Area</td>\n",
       "      <td>63217</td>\n",
       "    </tr>\n",
       "  </tbody>\n",
       "</table>\n",
       "</div>"
      ],
      "text/plain": [
       "         ALAND10                                   NAMELSAD10 GEOID10\n",
       "1593  4852213624            Boston, MA--NH--RI Urbanized Area   09271\n",
       "2546  5131722319  Philadelphia, PA--NJ--DE--MD Urbanized Area   69076\n",
       "3250  6323669758               Chicago, IL--IN Urbanized Area   16264\n",
       "3002  6850603579                   Atlanta, GA Urbanized Area   03817\n",
       "2321  8934395320  New York--Newark, NY--NJ--CT Urbanized Area   63217"
      ]
     },
     "execution_count": 7,
     "metadata": {},
     "output_type": "execute_result"
    }
   ],
   "source": [
    "urbanized_areas[['ALAND10', 'NAMELSAD10', 'GEOID10']].tail()"
   ]
  },
  {
   "cell_type": "markdown",
   "metadata": {},
   "source": [
    "## Prepare queries"
   ]
  },
  {
   "cell_type": "code",
   "execution_count": 8,
   "metadata": {},
   "outputs": [],
   "source": [
    "def make_fips_state(s):\n",
    "    start = s.find(', ') + 2\n",
    "    state = s[start:start+2]\n",
    "    fips_state = '{}_{}'.format(st_fips[state], state)\n",
    "    return fips_state\n",
    "    \n",
    "urbanized_areas['fips_state'] = urbanized_areas['NAMELSAD10'].map(make_fips_state)"
   ]
  },
  {
   "cell_type": "code",
   "execution_count": 9,
   "metadata": {},
   "outputs": [],
   "source": [
    "def make_geoid_name(row):\n",
    "    return '{}_{}'.format(row['GEOID10'], row['NAMELSAD10']).replace(',', '').replace(' ', '_').replace('/', '_')\n",
    "\n",
    "urbanized_areas['geoid_name'] = urbanized_areas.apply(make_geoid_name, axis=1)"
   ]
  },
  {
   "cell_type": "code",
   "execution_count": 10,
   "metadata": {},
   "outputs": [
    {
     "data": {
      "text/plain": [
       "{'fips_state': '06_CA',\n",
       " 'geoid_name': '22987_Delano_CA_Urbanized_Area',\n",
       " 'polygon': <shapely.geometry.multipolygon.MultiPolygon at 0x217980b4940>}"
      ]
     },
     "execution_count": 10,
     "metadata": {},
     "output_type": "execute_result"
    }
   ],
   "source": [
    "queries = urbanized_areas.apply(lambda row: {'fips_state':row['fips_state'],\n",
    "                                             'geoid_name':row['geoid_name'],\n",
    "                                             'polygon':row['geometry']}, axis=1).tolist()\n",
    "queries[0]"
   ]
  },
  {
   "cell_type": "markdown",
   "metadata": {},
   "source": [
    "## Download and save graphs"
   ]
  },
  {
   "cell_type": "code",
   "execution_count": 11,
   "metadata": {},
   "outputs": [
    {
     "name": "stdout",
     "output_type": "stream",
     "text": [
      "Finished making graphs in 38,503.0 seconds\n"
     ]
    }
   ],
   "source": [
    "start_time = time.time()\n",
    "\n",
    "for query in queries:\n",
    "    try:\n",
    "        graphml_folder = '{}/{}'.format(output_folder_graphml, query['fips_state'])\n",
    "        graphml_file = '{}.graphml'.format(query['geoid_name'])\n",
    "        shapefile_folder = '{}/{}'.format(output_folder_shapefile, query['fips_state'])\n",
    "        shapefile_file = query['geoid_name']\n",
    "        \n",
    "        if not os.path.exists('{}/{}'.format(graphml_folder, graphml_file)):\n",
    "            \n",
    "            G = ox.graph_from_polygon(polygon=query['polygon'],\n",
    "                                      network_type=network_type,\n",
    "                                      name=query['geoid_name'],\n",
    "                                      retain_all=retain_all,\n",
    "                                      simplify=simplify)\n",
    "            \n",
    "            ox.save_graph_shapefile(G, folder=shapefile_folder, filename=shapefile_file)\n",
    "            ox.save_graphml(G, folder=graphml_folder, filename=graphml_file)\n",
    "            \n",
    "    except Exception as e:\n",
    "        ox.log('\"{}\" failed: {}'.format(query['geoid_name'], e), level=lg.ERROR)\n",
    "        \n",
    "print('Finished making graphs in {:,.1f} seconds'.format(time.time() - start_time))"
   ]
  },
  {
   "cell_type": "code",
   "execution_count": 12,
   "metadata": {},
   "outputs": [],
   "source": [
    "#39,000 seconds last time"
   ]
  }
 ],
 "metadata": {
  "anaconda-cloud": {},
  "kernelspec": {
   "display_name": "Python 3",
   "language": "python",
   "name": "python3"
  },
  "language_info": {
   "codemirror_mode": {
    "name": "ipython",
    "version": 3
   },
   "file_extension": ".py",
   "mimetype": "text/x-python",
   "name": "python",
   "nbconvert_exporter": "python",
   "pygments_lexer": "ipython3",
   "version": "3.6.5"
  }
 },
 "nbformat": 4,
 "nbformat_minor": 1
}
