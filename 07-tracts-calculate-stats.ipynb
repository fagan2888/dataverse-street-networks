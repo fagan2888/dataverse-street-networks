{
 "cells": [
  {
   "cell_type": "code",
   "execution_count": 1,
   "metadata": {},
   "outputs": [
    {
     "name": "stdout",
     "output_type": "stream",
     "text": [
      "0.8.1\n",
      "2.1\n"
     ]
    }
   ],
   "source": [
    "import config\n",
    "import geopandas as gpd\n",
    "import json\n",
    "import networkx as nx\n",
    "import numpy as np\n",
    "import os\n",
    "import osmnx as ox\n",
    "import pandas as pd\n",
    "import time\n",
    "\n",
    "ox.config(use_cache=True,\n",
    "          log_file=True,\n",
    "          log_console=True,\n",
    "          log_filename='calculate-tracts',\n",
    "          cache_folder=config.tracts_cache_folder)\n",
    "\n",
    "print(ox.__version__)\n",
    "print(nx.__version__)"
   ]
  },
  {
   "cell_type": "code",
   "execution_count": 2,
   "metadata": {},
   "outputs": [],
   "source": [
    "graphml_folder = config.tracts_graphml_folder\n",
    "tracts_folder = 'input_data/tracts' #tiger tract shapefiles\n",
    "stats_folder = config.tracts_stats_folder"
   ]
  },
  {
   "cell_type": "code",
   "execution_count": 3,
   "metadata": {},
   "outputs": [],
   "source": [
    "tracts = []\n",
    "for state_folder in os.listdir(graphml_folder):\n",
    "    for tract_file in os.listdir('{}/{}'.format(graphml_folder, state_folder)):\n",
    "\n",
    "        data = {}\n",
    "        data['state_folder'] = state_folder\n",
    "        data['state_fips'] = state_folder.split('_')[0]\n",
    "        data['state'] = state_folder.split('_')[1]\n",
    "        data['tract_file'] = tract_file\n",
    "        data['geoid'] = tract_file.replace('.graphml', '')\n",
    "        tracts.append(data)\n",
    "\n",
    "df = pd.DataFrame(tracts)"
   ]
  },
  {
   "cell_type": "markdown",
   "metadata": {},
   "source": [
    "## Get land area data from shapefiles and merge into DataFrame"
   ]
  },
  {
   "cell_type": "code",
   "execution_count": 4,
   "metadata": {},
   "outputs": [],
   "source": [
    "# load each state shapefile and get the geoid and aland for each tract row\n",
    "gdf = gpd.GeoDataFrame()\n",
    "for state_fips in df['state_fips'].unique():\n",
    "    path = '{}/tl_2017_{}_tract'.format(tracts_folder, state_fips)\n",
    "    gdf = gdf.append(gpd.read_file(path)[['GEOID', 'ALAND']])\n",
    "\n",
    "# merge aland values into dataframe, on geoid\n",
    "gdf = gdf.rename(columns=str.lower)\n",
    "df = pd.merge(df, gdf, how='left', on='geoid')"
   ]
  },
  {
   "cell_type": "markdown",
   "metadata": {},
   "source": [
    "## Load graph and calculate stats for each tract"
   ]
  },
  {
   "cell_type": "code",
   "execution_count": 5,
   "metadata": {},
   "outputs": [],
   "source": [
    "def load_graph_get_stats(row):\n",
    "    \n",
    "    try:\n",
    "        start_time = time.time()\n",
    "        folder = '{}/{}'.format(graphml_folder, row['state_folder'])\n",
    "        G = ox.load_graphml(filename=row['tract_file'], folder=folder)\n",
    "        \n",
    "        # if tract has no land area, set area to null to avoid div by zero\n",
    "        area = row['aland'] if row['aland'] > 0 else np.nan        \n",
    "        stats = ox.basic_stats(G, area=area)\n",
    "        \n",
    "        # unpack k-counts and k-proportion dicts into individiual keys:values\n",
    "        for k, count in stats['streets_per_node_counts'].items():\n",
    "            stats['int_{}_streets_count'.format(k)] = count\n",
    "        for k, proportion in stats['streets_per_node_proportion'].items():\n",
    "            stats['int_{}_streets_prop'.format(k)] = proportion\n",
    "            \n",
    "        # calculate/drop the extended stats that have values per node\n",
    "        extended_stats = ox.extended_stats(G)\n",
    "        se = pd.Series(extended_stats)\n",
    "        se = se.drop(['avg_neighbor_degree', 'avg_weighted_neighbor_degree', 'clustering_coefficient',\n",
    "                      'clustering_coefficient_weighted', 'degree_centrality', 'pagerank'])\n",
    "        extended_stats_clean = se.to_dict()\n",
    "        \n",
    "        for key in extended_stats_clean:\n",
    "            stats[key] = extended_stats_clean[key]\n",
    "        \n",
    "        stats['area_km'] = row['aland'] / 1e6\n",
    "        stats['state'] = row['state']\n",
    "        stats['geoid'] = row['geoid']\n",
    "        stats['area'] = row['aland']\n",
    "        stats['time'] = time.time()-start_time\n",
    "        \n",
    "        return pd.Series(stats)\n",
    "\n",
    "    except Exception as e:\n",
    "        print('{}, {} failed: {}'.format(row['geoid'], row['state'], e))\n",
    "        return pd.Series()"
   ]
  },
  {
   "cell_type": "code",
   "execution_count": 6,
   "metadata": {},
   "outputs": [
    {
     "name": "stderr",
     "output_type": "stream",
     "text": [
      "g:\\geoff\\dropbox\\documents\\school\\phd\\projects\\code\\osmnx-repos\\osmnx\\osmnx\\stats.py:201: RuntimeWarning: divide by zero encountered in double_scalars\n",
      "  circuity_avg = edge_length_total / gc_distances.sum()\n"
     ]
    },
    {
     "name": "stdout",
     "output_type": "stream",
     "text": [
      "06029004601, CA failed: float division by zero\n",
      "17097863006, IL failed: float division by zero\n",
      "26033980300, MI failed: float division by zero\n"
     ]
    },
    {
     "data": {
      "text/plain": [
       "(72663, 66)"
      ]
     },
     "execution_count": 6,
     "metadata": {},
     "output_type": "execute_result"
    }
   ],
   "source": [
    "#sample = list(range(0, len(df), int(len(df)/100)))\n",
    "#stats = df.iloc[sample].apply(load_graph_get_stats, axis=1)\n",
    "stats_temp = df.apply(load_graph_get_stats, axis=1)\n",
    "stats_temp.shape"
   ]
  },
  {
   "cell_type": "code",
   "execution_count": 7,
   "metadata": {},
   "outputs": [
    {
     "data": {
      "text/plain": [
       "15758.280586481094"
      ]
     },
     "execution_count": 7,
     "metadata": {},
     "output_type": "execute_result"
    }
   ],
   "source": [
    "stats_temp['time'].sum()"
   ]
  },
  {
   "cell_type": "markdown",
   "metadata": {},
   "source": [
    "## Clean up the dataframe"
   ]
  },
  {
   "cell_type": "code",
   "execution_count": 8,
   "metadata": {},
   "outputs": [],
   "source": [
    "stats = stats_temp.copy()"
   ]
  },
  {
   "cell_type": "code",
   "execution_count": 9,
   "metadata": {},
   "outputs": [],
   "source": [
    "# stuff to drop\n",
    "cols_to_drop = ['area', 'time', 'streets_per_node_counts', 'streets_per_node_proportion', \n",
    "                'pagerank_max_node', 'pagerank_min_node', 'clean_intersection_count',\n",
    "                'clean_intersection_density_km']"
   ]
  },
  {
   "cell_type": "code",
   "execution_count": 10,
   "metadata": {},
   "outputs": [],
   "source": [
    "cols_to_rename = {}\n",
    "for col in stats.columns:\n",
    "    if 'int_' in col:\n",
    "        n = col.split('_')[1]\n",
    "        if n not in ['1', '3', '4']:\n",
    "            cols_to_drop.append(col)\n",
    "        else:\n",
    "            suffix = 'count' if 'count' in col else 'proportion'\n",
    "            cols_to_rename[col] = 'intersect_{}way_{}'.format(n, suffix)\n",
    "            \n",
    "stats = stats.drop(cols_to_drop, axis=1)"
   ]
  },
  {
   "cell_type": "code",
   "execution_count": 11,
   "metadata": {},
   "outputs": [],
   "source": [
    "# rename these to friendlier names\n",
    "cols_to_rename['clustering_coefficient_avg'] = 'cluster_coeff_avg'\n",
    "cols_to_rename['clustering_coefficient_weighted_avg'] = 'cluster_coeff_weighted_avg'\n",
    "cols_to_rename['intersection_density_km'] = 'intersect_density_km'\n",
    "cols_to_rename['intersect_1way_count'] = 'dead_end_count'\n",
    "cols_to_rename['intersect_1way_proportion'] = 'dead_end_proportion'\n",
    "cols_to_rename['m'] = 'edge_count'\n",
    "cols_to_rename['n'] = 'node_count'\n",
    "stats = stats.rename(columns=cols_to_rename)\n",
    "stats = stats.rename(columns=cols_to_rename)"
   ]
  },
  {
   "cell_type": "code",
   "execution_count": 12,
   "metadata": {},
   "outputs": [],
   "source": [
    "# drop anything lacking a GEOID\n",
    "stats = stats.dropna(subset=['geoid'])"
   ]
  },
  {
   "cell_type": "code",
   "execution_count": 13,
   "metadata": {},
   "outputs": [],
   "source": [
    "# make these integers\n",
    "cols_int = ['intersection_count', 'edge_length_total', 'edge_count', 'node_count', 'street_segments_count']\n",
    "stats[cols_int] = stats[cols_int].astype(np.int64)"
   ]
  },
  {
   "cell_type": "code",
   "execution_count": 14,
   "metadata": {},
   "outputs": [],
   "source": [
    "# make state, geoid at left of df\n",
    "cols = stats.columns.tolist()\n",
    "cols.insert(0, cols.pop(cols.index('geoid')))\n",
    "cols.insert(1, cols.pop(cols.index('state')))\n",
    "stats = stats.reindex(columns=cols)"
   ]
  },
  {
   "cell_type": "markdown",
   "metadata": {},
   "source": [
    "## View the results"
   ]
  },
  {
   "cell_type": "code",
   "execution_count": 15,
   "metadata": {},
   "outputs": [
    {
     "data": {
      "text/plain": [
       "(72660, 32)"
      ]
     },
     "execution_count": 15,
     "metadata": {},
     "output_type": "execute_result"
    }
   ],
   "source": [
    "stats.shape"
   ]
  },
  {
   "cell_type": "code",
   "execution_count": 16,
   "metadata": {},
   "outputs": [
    {
     "data": {
      "text/plain": [
       "Index(['geoid', 'state', 'area_km', 'avg_neighbor_degree_avg',\n",
       "       'avg_weighted_neighbor_degree_avg', 'circuity_avg', 'cluster_coeff_avg',\n",
       "       'cluster_coeff_weighted_avg', 'degree_centrality_avg',\n",
       "       'edge_density_km', 'edge_length_avg', 'edge_length_total',\n",
       "       'dead_end_count', 'dead_end_proportion', 'intersect_3way_count',\n",
       "       'intersect_3way_proportion', 'intersect_4way_count',\n",
       "       'intersect_4way_proportion', 'intersection_count',\n",
       "       'intersect_density_km', 'k_avg', 'edge_count', 'node_count',\n",
       "       'node_density_km', 'pagerank_max', 'pagerank_min',\n",
       "       'self_loop_proportion', 'street_density_km', 'street_length_avg',\n",
       "       'street_length_total', 'street_segments_count', 'streets_per_node_avg'],\n",
       "      dtype='object')"
      ]
     },
     "execution_count": 16,
     "metadata": {},
     "output_type": "execute_result"
    }
   ],
   "source": [
    "stats.columns"
   ]
  },
  {
   "cell_type": "code",
   "execution_count": 17,
   "metadata": {},
   "outputs": [
    {
     "data": {
      "text/html": [
       "<div>\n",
       "<style scoped>\n",
       "    .dataframe tbody tr th:only-of-type {\n",
       "        vertical-align: middle;\n",
       "    }\n",
       "\n",
       "    .dataframe tbody tr th {\n",
       "        vertical-align: top;\n",
       "    }\n",
       "\n",
       "    .dataframe thead th {\n",
       "        text-align: right;\n",
       "    }\n",
       "</style>\n",
       "<table border=\"1\" class=\"dataframe\">\n",
       "  <thead>\n",
       "    <tr style=\"text-align: right;\">\n",
       "      <th></th>\n",
       "      <th>geoid</th>\n",
       "      <th>state</th>\n",
       "      <th>area_km</th>\n",
       "      <th>avg_neighbor_degree_avg</th>\n",
       "      <th>avg_weighted_neighbor_degree_avg</th>\n",
       "      <th>circuity_avg</th>\n",
       "      <th>cluster_coeff_avg</th>\n",
       "      <th>cluster_coeff_weighted_avg</th>\n",
       "      <th>degree_centrality_avg</th>\n",
       "      <th>edge_density_km</th>\n",
       "      <th>...</th>\n",
       "      <th>node_count</th>\n",
       "      <th>node_density_km</th>\n",
       "      <th>pagerank_max</th>\n",
       "      <th>pagerank_min</th>\n",
       "      <th>self_loop_proportion</th>\n",
       "      <th>street_density_km</th>\n",
       "      <th>street_length_avg</th>\n",
       "      <th>street_length_total</th>\n",
       "      <th>street_segments_count</th>\n",
       "      <th>streets_per_node_avg</th>\n",
       "    </tr>\n",
       "  </thead>\n",
       "  <tbody>\n",
       "    <tr>\n",
       "      <th>0</th>\n",
       "      <td>01001020100</td>\n",
       "      <td>AL</td>\n",
       "      <td>9.817812</td>\n",
       "      <td>2.580952</td>\n",
       "      <td>0.043010</td>\n",
       "      <td>1.059221</td>\n",
       "      <td>0.034286</td>\n",
       "      <td>0.003515</td>\n",
       "      <td>0.025419</td>\n",
       "      <td>7091.146378</td>\n",
       "      <td>...</td>\n",
       "      <td>175</td>\n",
       "      <td>17.824745</td>\n",
       "      <td>0.014839</td>\n",
       "      <td>0.000872</td>\n",
       "      <td>0.005168</td>\n",
       "      <td>3730.982626</td>\n",
       "      <td>181.337059</td>\n",
       "      <td>36630.086</td>\n",
       "      <td>202</td>\n",
       "      <td>2.531429</td>\n",
       "    </tr>\n",
       "    <tr>\n",
       "      <th>1</th>\n",
       "      <td>01001020200</td>\n",
       "      <td>AL</td>\n",
       "      <td>3.325679</td>\n",
       "      <td>2.844282</td>\n",
       "      <td>0.030708</td>\n",
       "      <td>1.026998</td>\n",
       "      <td>0.022628</td>\n",
       "      <td>0.003143</td>\n",
       "      <td>0.036604</td>\n",
       "      <td>15896.487905</td>\n",
       "      <td>...</td>\n",
       "      <td>137</td>\n",
       "      <td>41.194595</td>\n",
       "      <td>0.014139</td>\n",
       "      <td>0.001465</td>\n",
       "      <td>0.000000</td>\n",
       "      <td>8024.587159</td>\n",
       "      <td>155.158145</td>\n",
       "      <td>26687.201</td>\n",
       "      <td>172</td>\n",
       "      <td>2.759124</td>\n",
       "    </tr>\n",
       "    <tr>\n",
       "      <th>2</th>\n",
       "      <td>01001020300</td>\n",
       "      <td>AL</td>\n",
       "      <td>5.349273</td>\n",
       "      <td>2.691011</td>\n",
       "      <td>0.031611</td>\n",
       "      <td>1.048203</td>\n",
       "      <td>0.048689</td>\n",
       "      <td>0.005347</td>\n",
       "      <td>0.025900</td>\n",
       "      <td>13352.252166</td>\n",
       "      <td>...</td>\n",
       "      <td>178</td>\n",
       "      <td>33.275550</td>\n",
       "      <td>0.016649</td>\n",
       "      <td>0.000843</td>\n",
       "      <td>0.009804</td>\n",
       "      <td>7078.691254</td>\n",
       "      <td>172.117509</td>\n",
       "      <td>37865.852</td>\n",
       "      <td>220</td>\n",
       "      <td>2.702247</td>\n",
       "    </tr>\n",
       "    <tr>\n",
       "      <th>3</th>\n",
       "      <td>01001020400</td>\n",
       "      <td>AL</td>\n",
       "      <td>6.384276</td>\n",
       "      <td>2.930931</td>\n",
       "      <td>0.026669</td>\n",
       "      <td>1.056506</td>\n",
       "      <td>0.039790</td>\n",
       "      <td>0.006313</td>\n",
       "      <td>0.023684</td>\n",
       "      <td>14033.430886</td>\n",
       "      <td>...</td>\n",
       "      <td>222</td>\n",
       "      <td>34.772933</td>\n",
       "      <td>0.008728</td>\n",
       "      <td>0.000685</td>\n",
       "      <td>0.000000</td>\n",
       "      <td>7249.537927</td>\n",
       "      <td>152.749343</td>\n",
       "      <td>46283.051</td>\n",
       "      <td>303</td>\n",
       "      <td>2.864865</td>\n",
       "    </tr>\n",
       "    <tr>\n",
       "      <th>4</th>\n",
       "      <td>01001020500</td>\n",
       "      <td>AL</td>\n",
       "      <td>11.408873</td>\n",
       "      <td>2.779865</td>\n",
       "      <td>0.029602</td>\n",
       "      <td>1.093550</td>\n",
       "      <td>0.044416</td>\n",
       "      <td>0.006136</td>\n",
       "      <td>0.012090</td>\n",
       "      <td>12370.638099</td>\n",
       "      <td>...</td>\n",
       "      <td>394</td>\n",
       "      <td>34.534524</td>\n",
       "      <td>0.007784</td>\n",
       "      <td>0.000382</td>\n",
       "      <td>0.014957</td>\n",
       "      <td>6576.122725</td>\n",
       "      <td>154.057801</td>\n",
       "      <td>75026.149</td>\n",
       "      <td>487</td>\n",
       "      <td>2.538071</td>\n",
       "    </tr>\n",
       "  </tbody>\n",
       "</table>\n",
       "<p>5 rows × 32 columns</p>\n",
       "</div>"
      ],
      "text/plain": [
       "         geoid state    area_km  avg_neighbor_degree_avg  \\\n",
       "0  01001020100    AL   9.817812                 2.580952   \n",
       "1  01001020200    AL   3.325679                 2.844282   \n",
       "2  01001020300    AL   5.349273                 2.691011   \n",
       "3  01001020400    AL   6.384276                 2.930931   \n",
       "4  01001020500    AL  11.408873                 2.779865   \n",
       "\n",
       "   avg_weighted_neighbor_degree_avg  circuity_avg  cluster_coeff_avg  \\\n",
       "0                          0.043010      1.059221           0.034286   \n",
       "1                          0.030708      1.026998           0.022628   \n",
       "2                          0.031611      1.048203           0.048689   \n",
       "3                          0.026669      1.056506           0.039790   \n",
       "4                          0.029602      1.093550           0.044416   \n",
       "\n",
       "   cluster_coeff_weighted_avg  degree_centrality_avg  edge_density_km  \\\n",
       "0                    0.003515               0.025419      7091.146378   \n",
       "1                    0.003143               0.036604     15896.487905   \n",
       "2                    0.005347               0.025900     13352.252166   \n",
       "3                    0.006313               0.023684     14033.430886   \n",
       "4                    0.006136               0.012090     12370.638099   \n",
       "\n",
       "           ...           node_count  node_density_km  pagerank_max  \\\n",
       "0          ...                  175        17.824745      0.014839   \n",
       "1          ...                  137        41.194595      0.014139   \n",
       "2          ...                  178        33.275550      0.016649   \n",
       "3          ...                  222        34.772933      0.008728   \n",
       "4          ...                  394        34.534524      0.007784   \n",
       "\n",
       "   pagerank_min  self_loop_proportion  street_density_km  street_length_avg  \\\n",
       "0      0.000872              0.005168        3730.982626         181.337059   \n",
       "1      0.001465              0.000000        8024.587159         155.158145   \n",
       "2      0.000843              0.009804        7078.691254         172.117509   \n",
       "3      0.000685              0.000000        7249.537927         152.749343   \n",
       "4      0.000382              0.014957        6576.122725         154.057801   \n",
       "\n",
       "   street_length_total  street_segments_count  streets_per_node_avg  \n",
       "0            36630.086                    202              2.531429  \n",
       "1            26687.201                    172              2.759124  \n",
       "2            37865.852                    220              2.702247  \n",
       "3            46283.051                    303              2.864865  \n",
       "4            75026.149                    487              2.538071  \n",
       "\n",
       "[5 rows x 32 columns]"
      ]
     },
     "execution_count": 17,
     "metadata": {},
     "output_type": "execute_result"
    }
   ],
   "source": [
    "stats.head()"
   ]
  },
  {
   "cell_type": "markdown",
   "metadata": {},
   "source": [
    "## Save to disk"
   ]
  },
  {
   "cell_type": "code",
   "execution_count": 18,
   "metadata": {},
   "outputs": [],
   "source": [
    "if not os.path.exists(stats_folder):\n",
    "    os.makedirs(stats_folder)\n",
    "output_path = '{}/tracts-stats.csv'.format(stats_folder)\n",
    "stats.to_csv(output_path, encoding='utf-8', index=False)"
   ]
  },
  {
   "cell_type": "code",
   "execution_count": null,
   "metadata": {},
   "outputs": [],
   "source": []
  }
 ],
 "metadata": {
  "anaconda-cloud": {},
  "kernelspec": {
   "display_name": "Python 3",
   "language": "python",
   "name": "python3"
  },
  "language_info": {
   "codemirror_mode": {
    "name": "ipython",
    "version": 3
   },
   "file_extension": ".py",
   "mimetype": "text/x-python",
   "name": "python",
   "nbconvert_exporter": "python",
   "pygments_lexer": "ipython3",
   "version": "3.6.5"
  }
 },
 "nbformat": 4,
 "nbformat_minor": 1
}
