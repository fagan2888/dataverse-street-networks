{
 "cells": [
  {
   "cell_type": "code",
   "execution_count": 1,
   "metadata": {},
   "outputs": [
    {
     "name": "stdout",
     "output_type": "stream",
     "text": [
      "0.8dev\n",
      "2.1\n"
     ]
    }
   ],
   "source": [
    "import config\n",
    "import geopandas as gpd\n",
    "import json\n",
    "import networkx as nx\n",
    "import numpy as np\n",
    "import os\n",
    "import osmnx as ox\n",
    "import pandas as pd\n",
    "import time\n",
    "\n",
    "ox.config(use_cache=True,\n",
    "          log_file=True,\n",
    "          log_console=True,\n",
    "          log_filename='calculate-counties',\n",
    "          cache_folder=config.counties_cache_folder)\n",
    "\n",
    "print(ox.__version__)\n",
    "print(nx.__version__)"
   ]
  },
  {
   "cell_type": "code",
   "execution_count": 2,
   "metadata": {},
   "outputs": [],
   "source": [
    "graphml_folder = config.counties_graphml_folder\n",
    "counties_folder = 'input_data/counties' #tiger counties shapefiles\n",
    "stats_folder = config.counties_stats_folder"
   ]
  },
  {
   "cell_type": "code",
   "execution_count": 3,
   "metadata": {},
   "outputs": [
    {
     "data": {
      "text/plain": [
       "8"
      ]
     },
     "execution_count": 3,
     "metadata": {},
     "output_type": "execute_result"
    }
   ],
   "source": [
    "counties = []\n",
    "for state_folder in os.listdir(graphml_folder):\n",
    "    for county_file in os.listdir('{}/{}'.format(graphml_folder, state_folder)):\n",
    "\n",
    "        data = {}\n",
    "        data['state_folder'] = state_folder\n",
    "        data['state_fips'] = state_folder.split('_')[0]\n",
    "        data['state'] = state_folder.split('_')[1]\n",
    "        data['county_file'] = county_file\n",
    "        data['geoid'] = county_file.split('_')[0]\n",
    "        data['county'] = county_file.strip('_{}'.format(data['geoid'])).replace('.graphml', '').replace('_', ' ')\n",
    "        counties.append(data)\n",
    "\n",
    "df = pd.DataFrame(counties)\n",
    "len(df)"
   ]
  },
  {
   "cell_type": "markdown",
   "metadata": {},
   "source": [
    "## Load the counties shapefile"
   ]
  },
  {
   "cell_type": "code",
   "execution_count": 4,
   "metadata": {},
   "outputs": [
    {
     "data": {
      "text/plain": [
       "3233"
      ]
     },
     "execution_count": 4,
     "metadata": {},
     "output_type": "execute_result"
    }
   ],
   "source": [
    "gdf = gpd.read_file(counties_folder).sort_values(by='ALAND', ascending=True)\n",
    "gdf = gdf[['GEOID', 'ALAND']]\n",
    "len(gdf)"
   ]
  },
  {
   "cell_type": "code",
   "execution_count": 5,
   "metadata": {},
   "outputs": [],
   "source": [
    "df = pd.merge(df, gdf, how='left', left_on='geoid', right_on='GEOID').drop(columns=['GEOID'])"
   ]
  },
  {
   "cell_type": "markdown",
   "metadata": {},
   "source": [
    "## Calculate the stats"
   ]
  },
  {
   "cell_type": "code",
   "execution_count": 6,
   "metadata": {},
   "outputs": [],
   "source": [
    "def load_graph_get_stats(row):\n",
    "    \n",
    "    start_time = time.time()\n",
    "    name = row['county']\n",
    "    geoid = row['geoid']\n",
    "    land_area = row['ALAND']\n",
    "    \n",
    "    \n",
    "    \n",
    "    try:\n",
    "        folder = '{}/{}'.format(graphml_folder, row['state_folder'])\n",
    "        filename = row['county_file']\n",
    "        G = ox.load_graphml(folder=folder, filename=filename)\n",
    "        \n",
    "        stats = ox.basic_stats(G, area=land_area)\n",
    "        stats['name'] = name\n",
    "        stats['geoid'] = geoid\n",
    "        stats['area'] = land_area\n",
    "        \n",
    "        # unpack k-counts and k-proportion dicts into individiual keys:values\n",
    "        for k, count in stats['streets_per_node_counts'].items():\n",
    "            stats['int_{}_streets_count'.format(k)] = count\n",
    "        for k, proportion in stats['streets_per_node_proportion'].items():\n",
    "            stats['int_{}_streets_prop'.format(k)] = proportion\n",
    "            \n",
    "        # calculate/drop the extended stats that have values per node\n",
    "        extended_stats = ox.extended_stats(G)\n",
    "        se = pd.Series(extended_stats)\n",
    "        se = se.drop(['avg_neighbor_degree', 'avg_weighted_neighbor_degree', 'clustering_coefficient',\n",
    "                      'clustering_coefficient_weighted', 'degree_centrality', 'pagerank'])\n",
    "        extended_stats_clean = se.to_dict()\n",
    "        \n",
    "        for key in extended_stats_clean:\n",
    "            stats[key] = extended_stats_clean[key]\n",
    "        \n",
    "        stats['area_km'] = land_area / 1e6\n",
    "        stats['time'] = time.time()-start_time\n",
    "        return pd.Series(stats)\n",
    "\n",
    "    except Exception as e:\n",
    "        print('{} failed: {}'.format(name, e))"
   ]
  },
  {
   "cell_type": "code",
   "execution_count": 7,
   "metadata": {},
   "outputs": [
    {
     "data": {
      "text/plain": [
       "(8, 48)"
      ]
     },
     "execution_count": 7,
     "metadata": {},
     "output_type": "execute_result"
    }
   ],
   "source": [
    "stats_temp = df.apply(load_graph_get_stats, axis=1)\n",
    "stats_temp.shape"
   ]
  },
  {
   "cell_type": "code",
   "execution_count": 8,
   "metadata": {},
   "outputs": [
    {
     "data": {
      "text/plain": [
       "10.729074239730835"
      ]
     },
     "execution_count": 8,
     "metadata": {},
     "output_type": "execute_result"
    }
   ],
   "source": [
    "stats_temp['time'].sum()"
   ]
  },
  {
   "cell_type": "markdown",
   "metadata": {},
   "source": [
    "## Clean up the dataframe"
   ]
  },
  {
   "cell_type": "code",
   "execution_count": 9,
   "metadata": {},
   "outputs": [],
   "source": [
    "stats = stats_temp.copy()"
   ]
  },
  {
   "cell_type": "code",
   "execution_count": 10,
   "metadata": {},
   "outputs": [],
   "source": [
    "# stuff to drop\n",
    "cols_to_drop = ['area', 'time', 'streets_per_node_counts', 'streets_per_node_proportion', \n",
    "                'pagerank_max_node', 'pagerank_min_node', 'clean_intersection_count',\n",
    "                'clean_intersection_density_km']"
   ]
  },
  {
   "cell_type": "code",
   "execution_count": 11,
   "metadata": {},
   "outputs": [],
   "source": [
    "cols_to_rename = {}\n",
    "for col in stats.columns:\n",
    "    if 'int_' in col:\n",
    "        n = col.split('_')[1]\n",
    "        if n not in ['1', '3', '4']:\n",
    "            cols_to_drop.append(col)\n",
    "        else:\n",
    "            suffix = 'count' if 'count' in col else 'proportion'\n",
    "            cols_to_rename[col] = 'intersect_{}way_{}'.format(n, suffix)\n",
    "            \n",
    "stats = stats.drop(cols_to_drop, axis=1)"
   ]
  },
  {
   "cell_type": "code",
   "execution_count": 12,
   "metadata": {},
   "outputs": [],
   "source": [
    "# rename these to friendlier names\n",
    "cols_to_rename['clustering_coefficient_avg'] = 'cluster_coeff_avg'\n",
    "cols_to_rename['clustering_coefficient_weighted_avg'] = 'cluster_coeff_weighted_avg'\n",
    "cols_to_rename['intersection_density_km'] = 'intersect_density_km'\n",
    "cols_to_rename['intersect_1way_count'] = 'dead_end_count'\n",
    "cols_to_rename['intersect_1way_proportion'] = 'dead_end_proportion'\n",
    "cols_to_rename['m'] = 'edge_count'\n",
    "cols_to_rename['n'] = 'node_count'\n",
    "cols_to_rename['name'] = 'county'\n",
    "stats = stats.rename(columns=cols_to_rename)\n",
    "stats = stats.rename(columns=cols_to_rename)"
   ]
  },
  {
   "cell_type": "code",
   "execution_count": 13,
   "metadata": {},
   "outputs": [],
   "source": [
    "# drop anything lacking a GEOID\n",
    "stats = stats.dropna(subset=['geoid'])"
   ]
  },
  {
   "cell_type": "code",
   "execution_count": 14,
   "metadata": {},
   "outputs": [],
   "source": [
    "# make these integers\n",
    "cols_int = ['intersection_count', 'edge_length_total', 'edge_count', 'node_count', 'street_segments_count']\n",
    "stats[cols_int] = stats[cols_int].astype(np.int64)"
   ]
  },
  {
   "cell_type": "code",
   "execution_count": 15,
   "metadata": {},
   "outputs": [],
   "source": [
    "# make city, state, geoid at left of df\n",
    "cols = stats.columns.tolist()\n",
    "cols.insert(0, cols.pop(cols.index('county')))\n",
    "cols.insert(1, cols.pop(cols.index('geoid')))\n",
    "stats = stats.reindex(columns=cols)"
   ]
  },
  {
   "cell_type": "markdown",
   "metadata": {},
   "source": [
    "## View the results"
   ]
  },
  {
   "cell_type": "code",
   "execution_count": 16,
   "metadata": {},
   "outputs": [
    {
     "data": {
      "text/plain": [
       "(8, 32)"
      ]
     },
     "execution_count": 16,
     "metadata": {},
     "output_type": "execute_result"
    }
   ],
   "source": [
    "stats.shape"
   ]
  },
  {
   "cell_type": "code",
   "execution_count": 17,
   "metadata": {},
   "outputs": [
    {
     "data": {
      "text/plain": [
       "Index(['county', 'geoid', 'area_km', 'avg_neighbor_degree_avg',\n",
       "       'avg_weighted_neighbor_degree_avg', 'circuity_avg', 'cluster_coeff_avg',\n",
       "       'cluster_coeff_weighted_avg', 'degree_centrality_avg',\n",
       "       'edge_density_km', 'edge_length_avg', 'edge_length_total',\n",
       "       'dead_end_count', 'dead_end_proportion', 'intersect_3way_count',\n",
       "       'intersect_3way_proportion', 'intersect_4way_count',\n",
       "       'intersect_4way_proportion', 'intersection_count',\n",
       "       'intersect_density_km', 'k_avg', 'edge_count', 'node_count',\n",
       "       'node_density_km', 'pagerank_max', 'pagerank_min',\n",
       "       'self_loop_proportion', 'street_density_km', 'street_length_avg',\n",
       "       'street_length_total', 'street_segments_count', 'streets_per_node_avg'],\n",
       "      dtype='object')"
      ]
     },
     "execution_count": 17,
     "metadata": {},
     "output_type": "execute_result"
    }
   ],
   "source": [
    "stats.columns"
   ]
  },
  {
   "cell_type": "code",
   "execution_count": 18,
   "metadata": {},
   "outputs": [
    {
     "data": {
      "text/html": [
       "<div>\n",
       "<style scoped>\n",
       "    .dataframe tbody tr th:only-of-type {\n",
       "        vertical-align: middle;\n",
       "    }\n",
       "\n",
       "    .dataframe tbody tr th {\n",
       "        vertical-align: top;\n",
       "    }\n",
       "\n",
       "    .dataframe thead th {\n",
       "        text-align: right;\n",
       "    }\n",
       "</style>\n",
       "<table border=\"1\" class=\"dataframe\">\n",
       "  <thead>\n",
       "    <tr style=\"text-align: right;\">\n",
       "      <th></th>\n",
       "      <th>county</th>\n",
       "      <th>geoid</th>\n",
       "      <th>area_km</th>\n",
       "      <th>avg_neighbor_degree_avg</th>\n",
       "      <th>avg_weighted_neighbor_degree_avg</th>\n",
       "      <th>circuity_avg</th>\n",
       "      <th>cluster_coeff_avg</th>\n",
       "      <th>cluster_coeff_weighted_avg</th>\n",
       "      <th>degree_centrality_avg</th>\n",
       "      <th>edge_density_km</th>\n",
       "      <th>...</th>\n",
       "      <th>node_count</th>\n",
       "      <th>node_density_km</th>\n",
       "      <th>pagerank_max</th>\n",
       "      <th>pagerank_min</th>\n",
       "      <th>self_loop_proportion</th>\n",
       "      <th>street_density_km</th>\n",
       "      <th>street_length_avg</th>\n",
       "      <th>street_length_total</th>\n",
       "      <th>street_segments_count</th>\n",
       "      <th>streets_per_node_avg</th>\n",
       "    </tr>\n",
       "  </thead>\n",
       "  <tbody>\n",
       "    <tr>\n",
       "      <th>6</th>\n",
       "      <td>Valdez-Cordova Census Area</td>\n",
       "      <td>02261</td>\n",
       "      <td>88635.832004</td>\n",
       "      <td>2.772870</td>\n",
       "      <td>0.019196</td>\n",
       "      <td>1.105280</td>\n",
       "      <td>0.030950</td>\n",
       "      <td>0.000236</td>\n",
       "      <td>0.003764</td>\n",
       "      <td>31.307960</td>\n",
       "      <td>...</td>\n",
       "      <td>1217</td>\n",
       "      <td>0.013730</td>\n",
       "      <td>0.002930</td>\n",
       "      <td>0.000123</td>\n",
       "      <td>0.008977</td>\n",
       "      <td>15.698946</td>\n",
       "      <td>987.572164</td>\n",
       "      <td>1391489.179</td>\n",
       "      <td>1409</td>\n",
       "      <td>2.299918</td>\n",
       "    </tr>\n",
       "    <tr>\n",
       "      <th>4</th>\n",
       "      <td>Northwest Arctic Borough</td>\n",
       "      <td>02188</td>\n",
       "      <td>92326.483031</td>\n",
       "      <td>2.981047</td>\n",
       "      <td>0.032291</td>\n",
       "      <td>1.140388</td>\n",
       "      <td>0.058271</td>\n",
       "      <td>0.000084</td>\n",
       "      <td>0.012943</td>\n",
       "      <td>6.172284</td>\n",
       "      <td>...</td>\n",
       "      <td>401</td>\n",
       "      <td>0.004343</td>\n",
       "      <td>0.010535</td>\n",
       "      <td>0.000400</td>\n",
       "      <td>0.001927</td>\n",
       "      <td>3.090389</td>\n",
       "      <td>548.701448</td>\n",
       "      <td>285324.753</td>\n",
       "      <td>520</td>\n",
       "      <td>2.588529</td>\n",
       "    </tr>\n",
       "    <tr>\n",
       "      <th>0</th>\n",
       "      <td>Bethel Census Area</td>\n",
       "      <td>02050</td>\n",
       "      <td>105228.855314</td>\n",
       "      <td>2.840535</td>\n",
       "      <td>0.028834</td>\n",
       "      <td>1.124234</td>\n",
       "      <td>0.058162</td>\n",
       "      <td>0.000263</td>\n",
       "      <td>0.004912</td>\n",
       "      <td>6.508363</td>\n",
       "      <td>...</td>\n",
       "      <td>972</td>\n",
       "      <td>0.009237</td>\n",
       "      <td>0.004078</td>\n",
       "      <td>0.000162</td>\n",
       "      <td>0.000000</td>\n",
       "      <td>3.254182</td>\n",
       "      <td>295.456269</td>\n",
       "      <td>342433.816</td>\n",
       "      <td>1159</td>\n",
       "      <td>2.384774</td>\n",
       "    </tr>\n",
       "    <tr>\n",
       "      <th>3</th>\n",
       "      <td>North Slope Borough</td>\n",
       "      <td>02185</td>\n",
       "      <td>230056.014591</td>\n",
       "      <td>2.768916</td>\n",
       "      <td>0.018846</td>\n",
       "      <td>1.145277</td>\n",
       "      <td>0.035225</td>\n",
       "      <td>0.000056</td>\n",
       "      <td>0.006184</td>\n",
       "      <td>10.410984</td>\n",
       "      <td>...</td>\n",
       "      <td>793</td>\n",
       "      <td>0.003447</td>\n",
       "      <td>0.004759</td>\n",
       "      <td>0.000195</td>\n",
       "      <td>0.003090</td>\n",
       "      <td>5.211794</td>\n",
       "      <td>1231.010724</td>\n",
       "      <td>1199004.445</td>\n",
       "      <td>974</td>\n",
       "      <td>2.450189</td>\n",
       "    </tr>\n",
       "    <tr>\n",
       "      <th>7</th>\n",
       "      <td>Yukon-Koyukuk Census Area</td>\n",
       "      <td>02290</td>\n",
       "      <td>377030.936019</td>\n",
       "      <td>2.886327</td>\n",
       "      <td>0.018639</td>\n",
       "      <td>1.176673</td>\n",
       "      <td>0.050583</td>\n",
       "      <td>0.000144</td>\n",
       "      <td>0.003681</td>\n",
       "      <td>8.896541</td>\n",
       "      <td>...</td>\n",
       "      <td>1314</td>\n",
       "      <td>0.003485</td>\n",
       "      <td>0.003075</td>\n",
       "      <td>0.000115</td>\n",
       "      <td>0.003465</td>\n",
       "      <td>4.452588</td>\n",
       "      <td>1053.837611</td>\n",
       "      <td>1678763.315</td>\n",
       "      <td>1593</td>\n",
       "      <td>2.429224</td>\n",
       "    </tr>\n",
       "  </tbody>\n",
       "</table>\n",
       "<p>5 rows × 32 columns</p>\n",
       "</div>"
      ],
      "text/plain": [
       "                       county  geoid        area_km  avg_neighbor_degree_avg  \\\n",
       "6  Valdez-Cordova Census Area  02261   88635.832004                 2.772870   \n",
       "4    Northwest Arctic Borough  02188   92326.483031                 2.981047   \n",
       "0          Bethel Census Area  02050  105228.855314                 2.840535   \n",
       "3         North Slope Borough  02185  230056.014591                 2.768916   \n",
       "7   Yukon-Koyukuk Census Area  02290  377030.936019                 2.886327   \n",
       "\n",
       "   avg_weighted_neighbor_degree_avg  circuity_avg  cluster_coeff_avg  \\\n",
       "6                          0.019196      1.105280           0.030950   \n",
       "4                          0.032291      1.140388           0.058271   \n",
       "0                          0.028834      1.124234           0.058162   \n",
       "3                          0.018846      1.145277           0.035225   \n",
       "7                          0.018639      1.176673           0.050583   \n",
       "\n",
       "   cluster_coeff_weighted_avg  degree_centrality_avg  edge_density_km  \\\n",
       "6                    0.000236               0.003764        31.307960   \n",
       "4                    0.000084               0.012943         6.172284   \n",
       "0                    0.000263               0.004912         6.508363   \n",
       "3                    0.000056               0.006184        10.410984   \n",
       "7                    0.000144               0.003681         8.896541   \n",
       "\n",
       "           ...           node_count  node_density_km  pagerank_max  \\\n",
       "6          ...                 1217         0.013730      0.002930   \n",
       "4          ...                  401         0.004343      0.010535   \n",
       "0          ...                  972         0.009237      0.004078   \n",
       "3          ...                  793         0.003447      0.004759   \n",
       "7          ...                 1314         0.003485      0.003075   \n",
       "\n",
       "   pagerank_min  self_loop_proportion  street_density_km  street_length_avg  \\\n",
       "6      0.000123              0.008977          15.698946         987.572164   \n",
       "4      0.000400              0.001927           3.090389         548.701448   \n",
       "0      0.000162              0.000000           3.254182         295.456269   \n",
       "3      0.000195              0.003090           5.211794        1231.010724   \n",
       "7      0.000115              0.003465           4.452588        1053.837611   \n",
       "\n",
       "   street_length_total  street_segments_count  streets_per_node_avg  \n",
       "6          1391489.179                   1409              2.299918  \n",
       "4           285324.753                    520              2.588529  \n",
       "0           342433.816                   1159              2.384774  \n",
       "3          1199004.445                    974              2.450189  \n",
       "7          1678763.315                   1593              2.429224  \n",
       "\n",
       "[5 rows x 32 columns]"
      ]
     },
     "execution_count": 18,
     "metadata": {},
     "output_type": "execute_result"
    }
   ],
   "source": [
    "stats.sort_values('area_km').tail()"
   ]
  },
  {
   "cell_type": "markdown",
   "metadata": {},
   "source": [
    "## Save to disk"
   ]
  },
  {
   "cell_type": "code",
   "execution_count": 19,
   "metadata": {},
   "outputs": [],
   "source": [
    "if not os.path.exists(stats_folder):\n",
    "    os.makedirs(stats_folder)\n",
    "output_path = '{}/counties-stats.csv'.format(stats_folder)\n",
    "stats.to_csv(output_path, encoding='utf-8', index=False)"
   ]
  },
  {
   "cell_type": "code",
   "execution_count": null,
   "metadata": {},
   "outputs": [],
   "source": []
  }
 ],
 "metadata": {
  "anaconda-cloud": {},
  "kernelspec": {
   "display_name": "Python 3",
   "language": "python",
   "name": "python3"
  },
  "language_info": {
   "codemirror_mode": {
    "name": "ipython",
    "version": 3
   },
   "file_extension": ".py",
   "mimetype": "text/x-python",
   "name": "python",
   "nbconvert_exporter": "python",
   "pygments_lexer": "ipython3",
   "version": "3.6.5"
  }
 },
 "nbformat": 4,
 "nbformat_minor": 1
}
