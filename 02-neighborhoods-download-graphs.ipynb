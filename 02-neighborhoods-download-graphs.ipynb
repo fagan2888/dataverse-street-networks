{
 "cells": [
  {
   "cell_type": "markdown",
   "metadata": {},
   "source": [
    "## Download neighborhoods' street networks\n",
    "\n",
    "Using Zillow neighborhoods shapefile (version from March 2018)"
   ]
  },
  {
   "cell_type": "code",
   "execution_count": 1,
   "metadata": {},
   "outputs": [
    {
     "name": "stdout",
     "output_type": "stream",
     "text": [
      "0.7.4\n",
      "2.1\n"
     ]
    }
   ],
   "source": [
    "import config\n",
    "import geopandas as gpd\n",
    "import json\n",
    "import logging as lg\n",
    "import networkx as nx\n",
    "import os\n",
    "import osmnx as ox\n",
    "import pandas as pd\n",
    "import time\n",
    "\n",
    "ox.config(use_cache=True,\n",
    "          log_file=True,\n",
    "          log_console=True,\n",
    "          log_filename='download-neighborhoods',\n",
    "          cache_folder=config.neighborhoods_cache_folder)\n",
    "\n",
    "print(ox.__version__)\n",
    "print(nx.__version__)"
   ]
  },
  {
   "cell_type": "code",
   "execution_count": 2,
   "metadata": {},
   "outputs": [],
   "source": [
    "network_type = 'drive'\n",
    "retain_all = True\n",
    "simplify = True\n",
    "\n",
    "input_folder = 'input_data/neighborhoods' #neighborhood shapefiles\n",
    "output_folder_shapefile = config.neighborhoods_shapefile_folder #where to save graph shapefiles\n",
    "output_folder_graphml = config.neighborhoods_graphml_folder #where to save graphml files"
   ]
  },
  {
   "cell_type": "code",
   "execution_count": 3,
   "metadata": {},
   "outputs": [],
   "source": [
    "# load state fips code to state name dict\n",
    "with open('input_data/states_by_fips.json') as f:\n",
    "    fips_to_state = json.load(f)"
   ]
  },
  {
   "cell_type": "markdown",
   "metadata": {},
   "source": [
    "## Load Zillow neighborhood shapefiles into a single GeoDataFrame"
   ]
  },
  {
   "cell_type": "code",
   "execution_count": 4,
   "metadata": {},
   "outputs": [],
   "source": [
    "nhoods = gpd.GeoDataFrame()\n",
    "for state_shapefile_folder in os.listdir(input_folder):\n",
    "    shapefile_path = '{}/{}'.format(input_folder, state_shapefile_folder)\n",
    "    state_nhoods = gpd.read_file(shapefile_path)\n",
    "    nhoods = nhoods.append(state_nhoods)\n",
    "nhoods = nhoods.reset_index().drop('index', axis=1)\n",
    "nhoods = nhoods.rename(columns=str.lower).rename(columns={'name':'nhood'}).drop(columns=['county', 'regionid'])"
   ]
  },
  {
   "cell_type": "code",
   "execution_count": 5,
   "metadata": {},
   "outputs": [
    {
     "name": "stdout",
     "output_type": "stream",
     "text": [
      "{'init': 'epsg:4269'}\n"
     ]
    },
    {
     "data": {
      "text/plain": [
       "{'init': 'epsg:4326'}"
      ]
     },
     "execution_count": 5,
     "metadata": {},
     "output_type": "execute_result"
    }
   ],
   "source": [
    "# project it from original CRS to 4326 to match OSM\n",
    "print(nhoods.crs)\n",
    "nhoods = nhoods.to_crs({'init':'epsg:4326'})\n",
    "nhoods.crs"
   ]
  },
  {
   "cell_type": "code",
   "execution_count": 6,
   "metadata": {},
   "outputs": [],
   "source": [
    "# get the (gross) area of each neighborhood, in meters\n",
    "def get_area(geometry):\n",
    "    original_crs = {'init':'epsg:4326'}\n",
    "    geometry_utm, crs_utm = ox.project_geometry(geometry=geometry.buffer(0), crs=original_crs)\n",
    "    return geometry_utm.area\n",
    "\n",
    "nhoods['nhood_area_m'] = nhoods['geometry'].map(get_area).astype(int)"
   ]
  },
  {
   "cell_type": "code",
   "execution_count": 7,
   "metadata": {},
   "outputs": [
    {
     "data": {
      "text/plain": [
       "17037"
      ]
     },
     "execution_count": 7,
     "metadata": {},
     "output_type": "execute_result"
    }
   ],
   "source": [
    "len(nhoods)"
   ]
  },
  {
   "cell_type": "code",
   "execution_count": 8,
   "metadata": {},
   "outputs": [
    {
     "data": {
      "text/html": [
       "<div>\n",
       "<style scoped>\n",
       "    .dataframe tbody tr th:only-of-type {\n",
       "        vertical-align: middle;\n",
       "    }\n",
       "\n",
       "    .dataframe tbody tr th {\n",
       "        vertical-align: top;\n",
       "    }\n",
       "\n",
       "    .dataframe thead th {\n",
       "        text-align: right;\n",
       "    }\n",
       "</style>\n",
       "<table border=\"1\" class=\"dataframe\">\n",
       "  <thead>\n",
       "    <tr style=\"text-align: right;\">\n",
       "      <th></th>\n",
       "      <th>state</th>\n",
       "      <th>city</th>\n",
       "      <th>nhood</th>\n",
       "      <th>geometry</th>\n",
       "      <th>nhood_area_m</th>\n",
       "    </tr>\n",
       "  </thead>\n",
       "  <tbody>\n",
       "    <tr>\n",
       "      <th>0</th>\n",
       "      <td>AK</td>\n",
       "      <td>Anchorage</td>\n",
       "      <td>Northeast</td>\n",
       "      <td>POLYGON ((-149.7038912589999 61.23497280100009...</td>\n",
       "      <td>12729723</td>\n",
       "    </tr>\n",
       "    <tr>\n",
       "      <th>1</th>\n",
       "      <td>AK</td>\n",
       "      <td>Anchorage</td>\n",
       "      <td>Rabbit Creek</td>\n",
       "      <td>POLYGON ((-149.7509806229999 61.10139700300005...</td>\n",
       "      <td>29644946</td>\n",
       "    </tr>\n",
       "    <tr>\n",
       "      <th>2</th>\n",
       "      <td>AK</td>\n",
       "      <td>Anchorage</td>\n",
       "      <td>Russian Jack Park</td>\n",
       "      <td>POLYGON ((-149.7783763009999 61.19888599700005...</td>\n",
       "      <td>4848223</td>\n",
       "    </tr>\n",
       "    <tr>\n",
       "      <th>3</th>\n",
       "      <td>AK</td>\n",
       "      <td>Anchorage</td>\n",
       "      <td>Bayshore-Klatt</td>\n",
       "      <td>POLYGON ((-149.9080830819999 61.13763518400004...</td>\n",
       "      <td>17899284</td>\n",
       "    </tr>\n",
       "    <tr>\n",
       "      <th>4</th>\n",
       "      <td>AK</td>\n",
       "      <td>Anchorage</td>\n",
       "      <td>Fire Island</td>\n",
       "      <td>POLYGON ((-150.2027799429999 61.13423928100008...</td>\n",
       "      <td>19028239</td>\n",
       "    </tr>\n",
       "  </tbody>\n",
       "</table>\n",
       "</div>"
      ],
      "text/plain": [
       "  state       city              nhood  \\\n",
       "0    AK  Anchorage          Northeast   \n",
       "1    AK  Anchorage       Rabbit Creek   \n",
       "2    AK  Anchorage  Russian Jack Park   \n",
       "3    AK  Anchorage     Bayshore-Klatt   \n",
       "4    AK  Anchorage        Fire Island   \n",
       "\n",
       "                                            geometry  nhood_area_m  \n",
       "0  POLYGON ((-149.7038912589999 61.23497280100009...      12729723  \n",
       "1  POLYGON ((-149.7509806229999 61.10139700300005...      29644946  \n",
       "2  POLYGON ((-149.7783763009999 61.19888599700005...       4848223  \n",
       "3  POLYGON ((-149.9080830819999 61.13763518400004...      17899284  \n",
       "4  POLYGON ((-150.2027799429999 61.13423928100008...      19028239  "
      ]
     },
     "execution_count": 8,
     "metadata": {},
     "output_type": "execute_result"
    }
   ],
   "source": [
    "nhoods.head()"
   ]
  },
  {
   "cell_type": "markdown",
   "metadata": {},
   "source": [
    "## Get networks"
   ]
  },
  {
   "cell_type": "code",
   "execution_count": 9,
   "metadata": {},
   "outputs": [],
   "source": [
    "# where to save networks\n",
    "state_to_fips = {data['abbreviation']:fips for fips, data in fips_to_state.items()}\n",
    "nhoods['state_folder'] = nhoods['state'].map(lambda x: '{}_{}'.format(state_to_fips[x], x))\n",
    "nhoods['city_folder'] = nhoods['city'].str.replace(' ', '_')\n",
    "nhoods['nhood'] = nhoods['nhood'].str.replace(' ', '_').str.replace('/', '_').str.replace(':', '_')"
   ]
  },
  {
   "cell_type": "code",
   "execution_count": 10,
   "metadata": {},
   "outputs": [
    {
     "data": {
      "text/plain": [
       "{'nhood': 'Northeast',\n",
       " 'city_folder': 'Anchorage',\n",
       " 'state_folder': '02_AK',\n",
       " 'geometry': <shapely.geometry.polygon.Polygon at 0x171543a3630>,\n",
       " 'nhood_area_m': 12729723}"
      ]
     },
     "execution_count": 10,
     "metadata": {},
     "output_type": "execute_result"
    }
   ],
   "source": [
    "# create list of queries\n",
    "queries = nhoods.apply(lambda row: {'nhood':row['nhood'],\n",
    "                                    'city_folder':row['city_folder'], \n",
    "                                    'state_folder':row['state_folder'], \n",
    "                                    'geometry':row['geometry'],\n",
    "                                    'nhood_area_m':row['nhood_area_m']}, axis=1).tolist()\n",
    "queries[0]"
   ]
  },
  {
   "cell_type": "code",
   "execution_count": 11,
   "metadata": {},
   "outputs": [
    {
     "name": "stderr",
     "output_type": "stream",
     "text": [
      "TopologyException: Input geom 0 is invalid: Self-intersection at or near point -116.23352029549683 43.608904490018531 at -116.23352029549683 43.608904490018531\n"
     ]
    },
    {
     "name": "stdout",
     "output_type": "stream",
     "text": [
      "Finished making graphs in 66.01 seconds\n"
     ]
    }
   ],
   "source": [
    "start_time = time.time()\n",
    "for query in queries:\n",
    "    \n",
    "    try:\n",
    "        graphml_filename = '{}.graphml'.format(query['nhood'])\n",
    "        graphml_folder = '{}/{}/{}'.format(output_folder_graphml, query['state_folder'], query['city_folder'])\n",
    "        shapefile_folder = '{}/{}/{}'.format(output_folder_shapefile, query['state_folder'], query['city_folder'])\n",
    "\n",
    "        # load graph and save it if it hasn't already been saved in the output_path\n",
    "        if not os.path.exists('{}/{}'.format(graphml_folder, graphml_filename)):\n",
    "\n",
    "            # fix trivially invalid geometries (nested shells, ring self-intersections, etc)\n",
    "            geometry = query['geometry'].buffer(0)\n",
    "            graph_name = '{}-{}-{}'.format(query['state_folder'], query['city_folder'], query['nhood'])\n",
    "\n",
    "            G = ox.graph_from_polygon(polygon=geometry,\n",
    "                                      network_type=network_type, \n",
    "                                      name=graph_name,\n",
    "                                      retain_all=retain_all,\n",
    "                                      simplify=simplify)\n",
    "\n",
    "            G.graph['nhood_area_m'] = query['nhood_area_m']\n",
    "\n",
    "            # save to disk\n",
    "            ox.save_graph_shapefile(G, folder=shapefile_folder, filename=query['nhood'])\n",
    "            ox.save_graphml(G, folder=graphml_folder, filename=graphml_filename)\n",
    "\n",
    "    except Exception as e:\n",
    "        ox.log('\"{}-{}-{}\" failed: {}'.format(query['state_folder'], query['city_folder'], query['nhood'], e), level=lg.ERROR)\n",
    "\n",
    "print('Finished making graphs in {:,.2f} seconds'.format(time.time()-start_time))"
   ]
  },
  {
   "cell_type": "code",
   "execution_count": null,
   "metadata": {},
   "outputs": [],
   "source": []
  }
 ],
 "metadata": {
  "anaconda-cloud": {},
  "kernelspec": {
   "display_name": "Python 3",
   "language": "python",
   "name": "python3"
  },
  "language_info": {
   "codemirror_mode": {
    "name": "ipython",
    "version": 3
   },
   "file_extension": ".py",
   "mimetype": "text/x-python",
   "name": "python",
   "nbconvert_exporter": "python",
   "pygments_lexer": "ipython3",
   "version": "3.6.5"
  }
 },
 "nbformat": 4,
 "nbformat_minor": 1
}
