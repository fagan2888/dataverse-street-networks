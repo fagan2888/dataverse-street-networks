{
 "cells": [
  {
   "cell_type": "code",
   "execution_count": 1,
   "metadata": {
    "collapsed": true
   },
   "outputs": [],
   "source": [
    "import pandas as pd, numpy as np\n",
    "folder = 'original'"
   ]
  },
  {
   "cell_type": "code",
   "execution_count": 2,
   "metadata": {},
   "outputs": [
    {
     "data": {
      "text/plain": [
       "33"
      ]
     },
     "execution_count": 2,
     "metadata": {},
     "output_type": "execute_result"
    }
   ],
   "source": [
    "filename = 'usa-cities-street_network-stats.csv'\n",
    "df = pd.read_csv('{}/{}'.format(folder, filename))\n",
    "\n",
    "cols_to_drop = ['area', 'time', 'streets_per_node_counts', 'streets_per_node_proportion', \n",
    "                'pagerank_max_node', 'pagerank_min_node']\n",
    "cols_to_rename = {}\n",
    "for col in df.columns:\n",
    "    if 'int_' in col:\n",
    "        n = col.split('_')[1]\n",
    "        if n not in ['1', '3', '4']:\n",
    "            cols_to_drop.append(col)\n",
    "        else:\n",
    "            suffix = 'count' if 'count' in col else 'proportion'\n",
    "            cols_to_rename[col] = 'intersect_{}way_{}'.format(n, suffix)\n",
    "            \n",
    "df = df.drop(cols_to_drop, axis=1)\n",
    "\n",
    "cols_to_rename['clustering_coefficient_avg'] = 'cluster_coeff_avg'\n",
    "cols_to_rename['clustering_coefficient_weighted_avg'] = 'cluster_coeff_weighted_avg'\n",
    "cols_to_rename['intersection_density_km'] = 'intersect_density_km'\n",
    "cols_to_rename['intersect_1way_count'] = 'dead_end_count'\n",
    "cols_to_rename['intersect_1way_proportion'] = 'dead_end_proportion'\n",
    "cols_to_rename['m'] = 'edge_count'\n",
    "cols_to_rename['n'] = 'node_count'\n",
    "df = df.rename(columns=cols_to_rename)\n",
    "df = df.rename(columns=cols_to_rename)\n",
    "\n",
    "df = df.dropna(subset=['geoid'])\n",
    "\n",
    "cols_int = ['count_intersections', 'edge_length_total', 'geoid', 'edge_count', 'node_count', 'street_segments_count']\n",
    "df[cols_int] = df[cols_int].astype(np.int64)\n",
    "df['geoid'] = df['geoid'].map(lambda x: '{:07d}'.format(x))\n",
    "\n",
    "cols = df.columns.tolist()\n",
    "cols.insert(0, cols.pop(cols.index('city')))\n",
    "cols.insert(1, cols.pop(cols.index('state')))\n",
    "cols.insert(2, cols.pop(cols.index('geoid')))\n",
    "df = df.reindex(columns=cols)\n",
    "\n",
    "df.to_csv(filename, encoding='utf-8', index=False)\n",
    "\n",
    "df_cities = df.copy()\n",
    "len(df_cities.columns)"
   ]
  },
  {
   "cell_type": "code",
   "execution_count": null,
   "metadata": {},
   "outputs": [],
   "source": []
  },
  {
   "cell_type": "code",
   "execution_count": 3,
   "metadata": {},
   "outputs": [
    {
     "data": {
      "text/plain": [
       "34"
      ]
     },
     "execution_count": 3,
     "metadata": {},
     "output_type": "execute_result"
    }
   ],
   "source": [
    "filename = 'usa-neighborhoods-street_network-stats.csv'\n",
    "df = pd.read_csv('{}/{}'.format(folder, filename))\n",
    "\n",
    "import ast\n",
    "def get_count(s, key):\n",
    "    try:\n",
    "        c = ast.literal_eval(s)[key]\n",
    "    except:\n",
    "        c = None\n",
    "    return c\n",
    "\n",
    "def get_prop(s, key):\n",
    "    try:\n",
    "        d = ast.literal_eval(s)\n",
    "        p = d[key] / sum(d.values())\n",
    "    except:\n",
    "        p = None\n",
    "    return p\n",
    "\n",
    "df['dead_end_count'] = df['streets_per_node_counts'].apply(get_count, key=1)\n",
    "df['dead_end_proportion'] = df['streets_per_node_counts'].apply(get_prop, key=1)\n",
    "df['intersect_3way_count'] = df['streets_per_node_counts'].apply(get_count, key=3)\n",
    "df['intersect_3way_proportion'] = df['streets_per_node_counts'].apply(get_prop, key=3)\n",
    "df['intersect_4way_count'] = df['streets_per_node_counts'].apply(get_count, key=4)\n",
    "df['intersect_4way_proportion'] = df['streets_per_node_counts'].apply(get_prop, key=4)\n",
    "\n",
    "cols_to_drop = ['area', 'time', 'streets_per_node_counts', 'streets_per_node_proportion', \n",
    "                'pagerank_max_node', 'pagerank_min_node']\n",
    "cols_to_rename = {}\n",
    "for col in df.columns:\n",
    "    if 'int_' in col:\n",
    "        n = col.split('_')[1]\n",
    "        if n not in ['1', '3', '4']:\n",
    "            cols_to_drop.append(col)\n",
    "        else:\n",
    "            suffix = 'count' if 'count' in col else 'proportion'\n",
    "            cols_to_rename[col] = 'intersect_{}way_{}'.format(n, suffix)\n",
    "            \n",
    "df = df.drop(cols_to_drop, axis=1)\n",
    "\n",
    "cols_to_rename['clustering_coefficient_avg'] = 'cluster_coeff_avg'\n",
    "cols_to_rename['clustering_coefficient_weighted_avg'] = 'cluster_coeff_weighted_avg'\n",
    "cols_to_rename['intersection_density_km'] = 'intersect_density_km'\n",
    "cols_to_rename['intersect_1way_count'] = 'dead_end_count'\n",
    "cols_to_rename['intersect_1way_proportion'] = 'dead_end_proportion'\n",
    "cols_to_rename['m'] = 'edge_count'\n",
    "cols_to_rename['n'] = 'node_count'\n",
    "cols_to_rename['nhood'] = 'zillow_neighborhood'\n",
    "df = df.rename(columns=cols_to_rename)\n",
    "df = df.rename(columns=cols_to_rename)\n",
    "\n",
    "df = df.dropna(subset=['geoid'])\n",
    "\n",
    "cols_int = ['count_intersections', 'edge_length_total', 'geoid', 'edge_count', 'node_count', 'street_segments_count']\n",
    "df[cols_int] = df[cols_int].astype(np.int64)\n",
    "df['geoid'] = df['geoid'].map(lambda x: '{:07d}'.format(x))\n",
    "\n",
    "cols = df.columns.tolist()\n",
    "cols.insert(0, cols.pop(cols.index('zillow_neighborhood')))\n",
    "cols.insert(1, cols.pop(cols.index('city')))\n",
    "cols.insert(2, cols.pop(cols.index('state')))\n",
    "cols.insert(3, cols.pop(cols.index('geoid')))\n",
    "df = df.reindex(columns=cols)\n",
    "\n",
    "df.to_csv(filename, encoding='utf-8', index=False)\n",
    "len(df.columns)"
   ]
  },
  {
   "cell_type": "code",
   "execution_count": null,
   "metadata": {},
   "outputs": [],
   "source": []
  },
  {
   "cell_type": "code",
   "execution_count": null,
   "metadata": {
    "collapsed": true
   },
   "outputs": [],
   "source": []
  },
  {
   "cell_type": "code",
   "execution_count": 7,
   "metadata": {},
   "outputs": [
    {
     "data": {
      "text/plain": [
       "32"
      ]
     },
     "execution_count": 7,
     "metadata": {},
     "output_type": "execute_result"
    }
   ],
   "source": [
    "filename = 'usa-urbanized_areas-street_network-stats.csv'\n",
    "df = pd.read_csv('{}/{}'.format(folder, filename))\n",
    "\n",
    "cols_to_drop = ['area', 'time', 'streets_per_node_counts', 'streets_per_node_proportion', \n",
    "                'pagerank_max_node', 'pagerank_min_node']\n",
    "cols_to_rename = {}\n",
    "for col in df.columns:\n",
    "    if 'int_' in col:\n",
    "        n = col.split('_')[1]\n",
    "        if n not in ['1', '3', '4']:\n",
    "            cols_to_drop.append(col)\n",
    "        else:\n",
    "            suffix = 'count' if 'count' in col else 'proportion'\n",
    "            cols_to_rename[col] = 'intersect_{}way_{}'.format(n, suffix)\n",
    "            \n",
    "df = df.drop(cols_to_drop, axis=1)\n",
    "\n",
    "cols_to_rename['clustering_coefficient_avg'] = 'cluster_coeff_avg'\n",
    "cols_to_rename['clustering_coefficient_weighted_avg'] = 'cluster_coeff_weighted_avg'\n",
    "cols_to_rename['intersection_density_km'] = 'intersect_density_km'\n",
    "cols_to_rename['intersect_1way_count'] = 'dead_end_count'\n",
    "cols_to_rename['intersect_1way_proportion'] = 'dead_end_proportion'\n",
    "cols_to_rename['m'] = 'edge_count'\n",
    "cols_to_rename['n'] = 'node_count'\n",
    "cols_to_rename['name'] = 'urbanized_area'\n",
    "df = df.rename(columns=cols_to_rename)\n",
    "df = df.rename(columns=cols_to_rename)\n",
    "\n",
    "df = df.dropna(subset=['geoid'])\n",
    "\n",
    "cols_int = ['count_intersections', 'edge_length_total', 'geoid', 'edge_count', 'node_count', 'street_segments_count']\n",
    "df[cols_int] = df[cols_int].astype(np.int64)\n",
    "df['geoid'] = df['geoid'].map(lambda x: '{:05d}'.format(x))\n",
    "\n",
    "cols = df.columns.tolist()\n",
    "cols.insert(0, cols.pop(cols.index('urbanized_area')))\n",
    "cols.insert(1, cols.pop(cols.index('geoid')))\n",
    "df = df.reindex(columns=cols)\n",
    "\n",
    "df.to_csv(filename, encoding='utf-8', index=False)\n",
    "\n",
    "df_cities = df.copy()\n",
    "len(df_cities.columns)"
   ]
  },
  {
   "cell_type": "code",
   "execution_count": null,
   "metadata": {
    "collapsed": true
   },
   "outputs": [],
   "source": []
  }
 ],
 "metadata": {
  "kernelspec": {
   "display_name": "Python 3",
   "language": "python",
   "name": "python3"
  },
  "language_info": {
   "codemirror_mode": {
    "name": "ipython",
    "version": 3
   },
   "file_extension": ".py",
   "mimetype": "text/x-python",
   "name": "python",
   "nbconvert_exporter": "python",
   "pygments_lexer": "ipython3",
   "version": "3.6.1"
  }
 },
 "nbformat": 4,
 "nbformat_minor": 2
}
