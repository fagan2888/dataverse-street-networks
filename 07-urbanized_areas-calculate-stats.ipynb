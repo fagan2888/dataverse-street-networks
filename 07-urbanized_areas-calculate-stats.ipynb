{
 "cells": [
  {
   "cell_type": "code",
   "execution_count": 1,
   "metadata": {},
   "outputs": [
    {
     "name": "stdout",
     "output_type": "stream",
     "text": [
      "0.7.4\n",
      "2.1\n"
     ]
    }
   ],
   "source": [
    "import config\n",
    "import geopandas as gpd\n",
    "import json\n",
    "import networkx as nx\n",
    "import numpy as np\n",
    "import os\n",
    "import osmnx as ox\n",
    "import pandas as pd\n",
    "import time\n",
    "\n",
    "ox.config(use_cache=True,\n",
    "          log_file=True,\n",
    "          log_console=True,\n",
    "          log_filename='calculate-urbanized_areas',\n",
    "          cache_folder=config.urbanized_areas_cache_folder)\n",
    "\n",
    "print(ox.__version__)\n",
    "print(nx.__version__)"
   ]
  },
  {
   "cell_type": "code",
   "execution_count": 2,
   "metadata": {},
   "outputs": [],
   "source": [
    "graphml_folder = config.urbanized_areas_graphml_folder\n",
    "uas_folder = 'input_data/urbanized_areas' #tiger urban areas shapefiles\n",
    "stats_folder = config.urbanized_areas_stats_folder"
   ]
  },
  {
   "cell_type": "code",
   "execution_count": 3,
   "metadata": {},
   "outputs": [
    {
     "data": {
      "text/plain": [
       "497"
      ]
     },
     "execution_count": 3,
     "metadata": {},
     "output_type": "execute_result"
    }
   ],
   "source": [
    "urbanized_areas = []\n",
    "for state_folder in os.listdir(graphml_folder):\n",
    "    for urbanized_area_file in os.listdir('{}/{}'.format(graphml_folder, state_folder)):\n",
    "\n",
    "        data = {}\n",
    "        data['state_folder'] = state_folder\n",
    "        data['state_fips'] = state_folder.split('_')[0]\n",
    "        data['state'] = state_folder.split('_')[1]\n",
    "        data['urbanized_area_file'] = urbanized_area_file\n",
    "        data['geoid'] = urbanized_area_file.split('_')[0]\n",
    "        data['urbanized_area'] = urbanized_area_file.strip('_{}'.format(data['geoid'])).replace('.graphml', '').replace('_', ' ')\n",
    "        urbanized_areas.append(data)\n",
    "\n",
    "df = pd.DataFrame(urbanized_areas)\n",
    "len(df)"
   ]
  },
  {
   "cell_type": "markdown",
   "metadata": {},
   "source": [
    "## Load the UAs shapefile"
   ]
  },
  {
   "cell_type": "code",
   "execution_count": 4,
   "metadata": {},
   "outputs": [
    {
     "data": {
      "text/plain": [
       "497"
      ]
     },
     "execution_count": 4,
     "metadata": {},
     "output_type": "execute_result"
    }
   ],
   "source": [
    "gdf = gpd.read_file(uas_folder).sort_values(by='ALAND10', ascending=True)\n",
    "gdf = gdf[~gdf['NAMELSAD10'].str.contains('Urban Cluster')]\n",
    "gdf = gdf[['GEOID10', 'ALAND10']]\n",
    "len(gdf)"
   ]
  },
  {
   "cell_type": "code",
   "execution_count": 5,
   "metadata": {},
   "outputs": [],
   "source": [
    "df = pd.merge(df, gdf, how='left', left_on='geoid', right_on='GEOID10').drop(columns=['GEOID10'])"
   ]
  },
  {
   "cell_type": "markdown",
   "metadata": {},
   "source": [
    "## Calculate the stats"
   ]
  },
  {
   "cell_type": "code",
   "execution_count": 6,
   "metadata": {},
   "outputs": [],
   "source": [
    "def load_graph_get_stats(row):\n",
    "    \n",
    "    start_time = time.time()\n",
    "    name = row['urbanized_area']\n",
    "    geoid = row['geoid']\n",
    "    land_area = row['ALAND10']\n",
    "    \n",
    "    \n",
    "    \n",
    "    try:\n",
    "        folder = '{}/{}'.format(graphml_folder, row['state_folder'])\n",
    "        filename = row['urbanized_area_file']\n",
    "        G = ox.load_graphml(folder=folder, filename=filename)\n",
    "        \n",
    "        stats = ox.basic_stats(G, area=land_area)\n",
    "        stats['name'] = name\n",
    "        stats['geoid'] = geoid\n",
    "        stats['area'] = land_area\n",
    "        \n",
    "        # unpack k-counts and k-proportion dicts into individiual keys:values\n",
    "        for k, count in stats['streets_per_node_counts'].items():\n",
    "            stats['int_{}_streets_count'.format(k)] = count\n",
    "        for k, proportion in stats['streets_per_node_proportion'].items():\n",
    "            stats['int_{}_streets_prop'.format(k)] = proportion\n",
    "            \n",
    "        # calculate/drop the extended stats that have values per node\n",
    "        extended_stats = ox.extended_stats(G)\n",
    "        se = pd.Series(extended_stats)\n",
    "        se = se.drop(['avg_neighbor_degree', 'avg_weighted_neighbor_degree', 'clustering_coefficient',\n",
    "                      'clustering_coefficient_weighted', 'degree_centrality', 'pagerank'])\n",
    "        extended_stats_clean = se.to_dict()\n",
    "        \n",
    "        for key in extended_stats_clean:\n",
    "            stats[key] = extended_stats_clean[key]\n",
    "        \n",
    "        stats['area_km'] = land_area / 1e6\n",
    "        stats['time'] = time.time()-start_time\n",
    "        return pd.Series(stats)\n",
    "\n",
    "    except Exception as e:\n",
    "        print('{} failed: {}'.format(name, e))"
   ]
  },
  {
   "cell_type": "code",
   "execution_count": 7,
   "metadata": {},
   "outputs": [
    {
     "data": {
      "text/plain": [
       "(497, 66)"
      ]
     },
     "execution_count": 7,
     "metadata": {},
     "output_type": "execute_result"
    }
   ],
   "source": [
    "stats_temp = df.apply(load_graph_get_stats, axis=1)\n",
    "stats_temp.shape"
   ]
  },
  {
   "cell_type": "code",
   "execution_count": 8,
   "metadata": {},
   "outputs": [
    {
     "data": {
      "text/plain": [
       "6119.933447599411"
      ]
     },
     "execution_count": 8,
     "metadata": {},
     "output_type": "execute_result"
    }
   ],
   "source": [
    "stats_temp['time'].sum()"
   ]
  },
  {
   "cell_type": "markdown",
   "metadata": {},
   "source": [
    "## Clean up the dataframe"
   ]
  },
  {
   "cell_type": "code",
   "execution_count": 9,
   "metadata": {},
   "outputs": [],
   "source": [
    "stats = stats_temp.copy()"
   ]
  },
  {
   "cell_type": "code",
   "execution_count": 10,
   "metadata": {},
   "outputs": [],
   "source": [
    "# stuff to drop\n",
    "cols_to_drop = ['area', 'time', 'streets_per_node_counts', 'streets_per_node_proportion', \n",
    "                'pagerank_max_node', 'pagerank_min_node', 'clean_intersection_count',\n",
    "                'clean_intersection_density_km']"
   ]
  },
  {
   "cell_type": "code",
   "execution_count": 11,
   "metadata": {},
   "outputs": [],
   "source": [
    "cols_to_rename = {}\n",
    "for col in stats.columns:\n",
    "    if 'int_' in col:\n",
    "        n = col.split('_')[1]\n",
    "        if n not in ['1', '3', '4']:\n",
    "            cols_to_drop.append(col)\n",
    "        else:\n",
    "            suffix = 'count' if 'count' in col else 'proportion'\n",
    "            cols_to_rename[col] = 'intersect_{}way_{}'.format(n, suffix)\n",
    "            \n",
    "stats = stats.drop(cols_to_drop, axis=1)"
   ]
  },
  {
   "cell_type": "code",
   "execution_count": 12,
   "metadata": {},
   "outputs": [],
   "source": [
    "# rename these to friendlier names\n",
    "cols_to_rename['clustering_coefficient_avg'] = 'cluster_coeff_avg'\n",
    "cols_to_rename['clustering_coefficient_weighted_avg'] = 'cluster_coeff_weighted_avg'\n",
    "cols_to_rename['intersection_density_km'] = 'intersect_density_km'\n",
    "cols_to_rename['intersect_1way_count'] = 'dead_end_count'\n",
    "cols_to_rename['intersect_1way_proportion'] = 'dead_end_proportion'\n",
    "cols_to_rename['m'] = 'edge_count'\n",
    "cols_to_rename['n'] = 'node_count'\n",
    "cols_to_rename['name'] = 'urbanized_area'\n",
    "stats = stats.rename(columns=cols_to_rename)\n",
    "stats = stats.rename(columns=cols_to_rename)"
   ]
  },
  {
   "cell_type": "code",
   "execution_count": 13,
   "metadata": {},
   "outputs": [],
   "source": [
    "# drop anything lacking a GEOID\n",
    "stats = stats.dropna(subset=['geoid'])"
   ]
  },
  {
   "cell_type": "code",
   "execution_count": 14,
   "metadata": {},
   "outputs": [],
   "source": [
    "# make these integers\n",
    "cols_int = ['intersection_count', 'edge_length_total', 'edge_count', 'node_count', 'street_segments_count']\n",
    "stats[cols_int] = stats[cols_int].astype(np.int64)"
   ]
  },
  {
   "cell_type": "code",
   "execution_count": 15,
   "metadata": {},
   "outputs": [],
   "source": [
    "# make city, state, geoid at left of df\n",
    "cols = stats.columns.tolist()\n",
    "cols.insert(0, cols.pop(cols.index('urbanized_area')))\n",
    "cols.insert(1, cols.pop(cols.index('geoid')))\n",
    "stats = stats.reindex(columns=cols)"
   ]
  },
  {
   "cell_type": "markdown",
   "metadata": {},
   "source": [
    "## View the results"
   ]
  },
  {
   "cell_type": "code",
   "execution_count": 16,
   "metadata": {},
   "outputs": [
    {
     "data": {
      "text/plain": [
       "(497, 32)"
      ]
     },
     "execution_count": 16,
     "metadata": {},
     "output_type": "execute_result"
    }
   ],
   "source": [
    "stats.shape"
   ]
  },
  {
   "cell_type": "code",
   "execution_count": 17,
   "metadata": {},
   "outputs": [
    {
     "data": {
      "text/plain": [
       "Index(['urbanized_area', 'geoid', 'area_km', 'avg_neighbor_degree_avg',\n",
       "       'avg_weighted_neighbor_degree_avg', 'circuity_avg', 'cluster_coeff_avg',\n",
       "       'cluster_coeff_weighted_avg', 'degree_centrality_avg',\n",
       "       'edge_density_km', 'edge_length_avg', 'edge_length_total',\n",
       "       'dead_end_count', 'dead_end_proportion', 'intersect_3way_count',\n",
       "       'intersect_3way_proportion', 'intersect_4way_count',\n",
       "       'intersect_4way_proportion', 'intersection_count',\n",
       "       'intersect_density_km', 'k_avg', 'edge_count', 'node_count',\n",
       "       'node_density_km', 'pagerank_max', 'pagerank_min',\n",
       "       'self_loop_proportion', 'street_density_km', 'street_length_avg',\n",
       "       'street_length_total', 'street_segments_count', 'streets_per_node_avg'],\n",
       "      dtype='object')"
      ]
     },
     "execution_count": 17,
     "metadata": {},
     "output_type": "execute_result"
    }
   ],
   "source": [
    "stats.columns"
   ]
  },
  {
   "cell_type": "code",
   "execution_count": 18,
   "metadata": {},
   "outputs": [
    {
     "data": {
      "text/html": [
       "<div>\n",
       "<style scoped>\n",
       "    .dataframe tbody tr th:only-of-type {\n",
       "        vertical-align: middle;\n",
       "    }\n",
       "\n",
       "    .dataframe tbody tr th {\n",
       "        vertical-align: top;\n",
       "    }\n",
       "\n",
       "    .dataframe thead th {\n",
       "        text-align: right;\n",
       "    }\n",
       "</style>\n",
       "<table border=\"1\" class=\"dataframe\">\n",
       "  <thead>\n",
       "    <tr style=\"text-align: right;\">\n",
       "      <th></th>\n",
       "      <th>urbanized_area</th>\n",
       "      <th>geoid</th>\n",
       "      <th>area_km</th>\n",
       "      <th>avg_neighbor_degree_avg</th>\n",
       "      <th>avg_weighted_neighbor_degree_avg</th>\n",
       "      <th>circuity_avg</th>\n",
       "      <th>cluster_coeff_avg</th>\n",
       "      <th>cluster_coeff_weighted_avg</th>\n",
       "      <th>degree_centrality_avg</th>\n",
       "      <th>edge_density_km</th>\n",
       "      <th>...</th>\n",
       "      <th>node_count</th>\n",
       "      <th>node_density_km</th>\n",
       "      <th>pagerank_max</th>\n",
       "      <th>pagerank_min</th>\n",
       "      <th>self_loop_proportion</th>\n",
       "      <th>street_density_km</th>\n",
       "      <th>street_length_avg</th>\n",
       "      <th>street_length_total</th>\n",
       "      <th>street_segments_count</th>\n",
       "      <th>streets_per_node_avg</th>\n",
       "    </tr>\n",
       "  </thead>\n",
       "  <tbody>\n",
       "    <tr>\n",
       "      <th>225</th>\n",
       "      <td>Boston MA--NH--RI Urbanized Area</td>\n",
       "      <td>09271</td>\n",
       "      <td>4852.213624</td>\n",
       "      <td>2.763338</td>\n",
       "      <td>0.030155</td>\n",
       "      <td>1.089643</td>\n",
       "      <td>0.050951</td>\n",
       "      <td>0.000590</td>\n",
       "      <td>0.000034</td>\n",
       "      <td>11651.631841</td>\n",
       "      <td>...</td>\n",
       "      <td>146866</td>\n",
       "      <td>30.267835</td>\n",
       "      <td>0.000026</td>\n",
       "      <td>1.025312e-06</td>\n",
       "      <td>0.023923</td>\n",
       "      <td>6388.857410</td>\n",
       "      <td>153.702487</td>\n",
       "      <td>3.100010e+07</td>\n",
       "      <td>201689</td>\n",
       "      <td>2.708571</td>\n",
       "    </tr>\n",
       "    <tr>\n",
       "      <th>364</th>\n",
       "      <td>Philadelphia PA--NJ--DE--MD Urbanized Area</td>\n",
       "      <td>69076</td>\n",
       "      <td>5131.722319</td>\n",
       "      <td>2.830751</td>\n",
       "      <td>0.064147</td>\n",
       "      <td>1.081114</td>\n",
       "      <td>0.048946</td>\n",
       "      <td>0.000385</td>\n",
       "      <td>0.000031</td>\n",
       "      <td>13232.578155</td>\n",
       "      <td>...</td>\n",
       "      <td>164575</td>\n",
       "      <td>32.070130</td>\n",
       "      <td>0.000027</td>\n",
       "      <td>9.152862e-07</td>\n",
       "      <td>0.009938</td>\n",
       "      <td>7300.928116</td>\n",
       "      <td>158.685731</td>\n",
       "      <td>3.746634e+07</td>\n",
       "      <td>236104</td>\n",
       "      <td>2.870788</td>\n",
       "    </tr>\n",
       "    <tr>\n",
       "      <th>162</th>\n",
       "      <td>Chicago IL--IN Urbanized Area</td>\n",
       "      <td>16264</td>\n",
       "      <td>6323.669758</td>\n",
       "      <td>2.962034</td>\n",
       "      <td>0.028812</td>\n",
       "      <td>1.065826</td>\n",
       "      <td>0.036737</td>\n",
       "      <td>0.000655</td>\n",
       "      <td>0.000026</td>\n",
       "      <td>14267.905207</td>\n",
       "      <td>...</td>\n",
       "      <td>209800</td>\n",
       "      <td>33.176938</td>\n",
       "      <td>0.000017</td>\n",
       "      <td>7.176539e-07</td>\n",
       "      <td>0.010864</td>\n",
       "      <td>7841.565631</td>\n",
       "      <td>161.445929</td>\n",
       "      <td>4.958747e+07</td>\n",
       "      <td>307146</td>\n",
       "      <td>2.917193</td>\n",
       "    </tr>\n",
       "    <tr>\n",
       "      <th>136</th>\n",
       "      <td>Atlanta GA Urbanized Area</td>\n",
       "      <td>03817</td>\n",
       "      <td>6850.603579</td>\n",
       "      <td>2.736249</td>\n",
       "      <td>0.028541</td>\n",
       "      <td>1.099988</td>\n",
       "      <td>0.041198</td>\n",
       "      <td>0.000514</td>\n",
       "      <td>0.000024</td>\n",
       "      <td>11582.626500</td>\n",
       "      <td>...</td>\n",
       "      <td>195352</td>\n",
       "      <td>28.516027</td>\n",
       "      <td>0.000021</td>\n",
       "      <td>7.706407e-07</td>\n",
       "      <td>0.010834</td>\n",
       "      <td>6254.523663</td>\n",
       "      <td>177.669303</td>\n",
       "      <td>4.284726e+07</td>\n",
       "      <td>241163</td>\n",
       "      <td>2.464275</td>\n",
       "    </tr>\n",
       "    <tr>\n",
       "      <th>297</th>\n",
       "      <td>New York--Newark NY--NJ--CT Urbanized Area</td>\n",
       "      <td>63217</td>\n",
       "      <td>8934.395320</td>\n",
       "      <td>2.859609</td>\n",
       "      <td>0.034802</td>\n",
       "      <td>1.060897</td>\n",
       "      <td>0.039323</td>\n",
       "      <td>0.000264</td>\n",
       "      <td>0.000014</td>\n",
       "      <td>15760.267611</td>\n",
       "      <td>...</td>\n",
       "      <td>373953</td>\n",
       "      <td>41.855435</td>\n",
       "      <td>0.000019</td>\n",
       "      <td>4.044022e-07</td>\n",
       "      <td>0.007004</td>\n",
       "      <td>8835.681865</td>\n",
       "      <td>147.527686</td>\n",
       "      <td>7.894147e+07</td>\n",
       "      <td>535096</td>\n",
       "      <td>2.857816</td>\n",
       "    </tr>\n",
       "  </tbody>\n",
       "</table>\n",
       "<p>5 rows × 32 columns</p>\n",
       "</div>"
      ],
      "text/plain": [
       "                                 urbanized_area  geoid      area_km  \\\n",
       "225            Boston MA--NH--RI Urbanized Area  09271  4852.213624   \n",
       "364  Philadelphia PA--NJ--DE--MD Urbanized Area  69076  5131.722319   \n",
       "162               Chicago IL--IN Urbanized Area  16264  6323.669758   \n",
       "136                   Atlanta GA Urbanized Area  03817  6850.603579   \n",
       "297  New York--Newark NY--NJ--CT Urbanized Area  63217  8934.395320   \n",
       "\n",
       "     avg_neighbor_degree_avg  avg_weighted_neighbor_degree_avg  circuity_avg  \\\n",
       "225                 2.763338                          0.030155      1.089643   \n",
       "364                 2.830751                          0.064147      1.081114   \n",
       "162                 2.962034                          0.028812      1.065826   \n",
       "136                 2.736249                          0.028541      1.099988   \n",
       "297                 2.859609                          0.034802      1.060897   \n",
       "\n",
       "     cluster_coeff_avg  cluster_coeff_weighted_avg  degree_centrality_avg  \\\n",
       "225           0.050951                    0.000590               0.000034   \n",
       "364           0.048946                    0.000385               0.000031   \n",
       "162           0.036737                    0.000655               0.000026   \n",
       "136           0.041198                    0.000514               0.000024   \n",
       "297           0.039323                    0.000264               0.000014   \n",
       "\n",
       "     edge_density_km          ...           node_count  node_density_km  \\\n",
       "225     11651.631841          ...               146866        30.267835   \n",
       "364     13232.578155          ...               164575        32.070130   \n",
       "162     14267.905207          ...               209800        33.176938   \n",
       "136     11582.626500          ...               195352        28.516027   \n",
       "297     15760.267611          ...               373953        41.855435   \n",
       "\n",
       "     pagerank_max  pagerank_min  self_loop_proportion  street_density_km  \\\n",
       "225      0.000026  1.025312e-06              0.023923        6388.857410   \n",
       "364      0.000027  9.152862e-07              0.009938        7300.928116   \n",
       "162      0.000017  7.176539e-07              0.010864        7841.565631   \n",
       "136      0.000021  7.706407e-07              0.010834        6254.523663   \n",
       "297      0.000019  4.044022e-07              0.007004        8835.681865   \n",
       "\n",
       "     street_length_avg  street_length_total  street_segments_count  \\\n",
       "225         153.702487         3.100010e+07                 201689   \n",
       "364         158.685731         3.746634e+07                 236104   \n",
       "162         161.445929         4.958747e+07                 307146   \n",
       "136         177.669303         4.284726e+07                 241163   \n",
       "297         147.527686         7.894147e+07                 535096   \n",
       "\n",
       "     streets_per_node_avg  \n",
       "225              2.708571  \n",
       "364              2.870788  \n",
       "162              2.917193  \n",
       "136              2.464275  \n",
       "297              2.857816  \n",
       "\n",
       "[5 rows x 32 columns]"
      ]
     },
     "execution_count": 18,
     "metadata": {},
     "output_type": "execute_result"
    }
   ],
   "source": [
    "stats.sort_values('area_km').tail()"
   ]
  },
  {
   "cell_type": "markdown",
   "metadata": {},
   "source": [
    "## Save to disk"
   ]
  },
  {
   "cell_type": "code",
   "execution_count": 19,
   "metadata": {},
   "outputs": [],
   "source": [
    "if not os.path.exists(stats_folder):\n",
    "    os.makedirs(stats_folder)\n",
    "output_path = '{}/urbanized_areas-stats.csv'.format(stats_folder)\n",
    "stats.to_csv(output_path, encoding='utf-8', index=False)"
   ]
  },
  {
   "cell_type": "code",
   "execution_count": null,
   "metadata": {},
   "outputs": [],
   "source": []
  }
 ],
 "metadata": {
  "anaconda-cloud": {},
  "kernelspec": {
   "display_name": "Python 3",
   "language": "python",
   "name": "python3"
  },
  "language_info": {
   "codemirror_mode": {
    "name": "ipython",
    "version": 3
   },
   "file_extension": ".py",
   "mimetype": "text/x-python",
   "name": "python",
   "nbconvert_exporter": "python",
   "pygments_lexer": "ipython3",
   "version": "3.6.5"
  }
 },
 "nbformat": 4,
 "nbformat_minor": 1
}
