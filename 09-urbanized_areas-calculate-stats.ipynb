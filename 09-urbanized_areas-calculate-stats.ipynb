{
 "cells": [
  {
   "cell_type": "code",
   "execution_count": 1,
   "metadata": {},
   "outputs": [
    {
     "name": "stdout",
     "output_type": "stream",
     "text": [
      "0.8.1\n",
      "2.1\n"
     ]
    }
   ],
   "source": [
    "import config\n",
    "import geopandas as gpd\n",
    "import json\n",
    "import networkx as nx\n",
    "import numpy as np\n",
    "import os\n",
    "import osmnx as ox\n",
    "import pandas as pd\n",
    "import time\n",
    "\n",
    "ox.config(use_cache=True,\n",
    "          log_file=True,\n",
    "          log_console=True,\n",
    "          log_filename='calculate-urbanized_areas',\n",
    "          cache_folder=config.urbanized_areas_cache_folder)\n",
    "\n",
    "print(ox.__version__)\n",
    "print(nx.__version__)"
   ]
  },
  {
   "cell_type": "code",
   "execution_count": 2,
   "metadata": {},
   "outputs": [],
   "source": [
    "graphml_folder = config.urbanized_areas_graphml_folder\n",
    "uas_folder = 'input_data/urbanized_areas' #tiger urban areas shapefiles\n",
    "stats_folder = config.urbanized_areas_stats_folder"
   ]
  },
  {
   "cell_type": "code",
   "execution_count": 3,
   "metadata": {},
   "outputs": [
    {
     "data": {
      "text/plain": [
       "497"
      ]
     },
     "execution_count": 3,
     "metadata": {},
     "output_type": "execute_result"
    }
   ],
   "source": [
    "urbanized_areas = []\n",
    "for state_folder in os.listdir(graphml_folder):\n",
    "    for urbanized_area_file in os.listdir('{}/{}'.format(graphml_folder, state_folder)):\n",
    "\n",
    "        data = {}\n",
    "        data['state_folder'] = state_folder\n",
    "        data['state_fips'] = state_folder.split('_')[0]\n",
    "        data['state'] = state_folder.split('_')[1]\n",
    "        data['urbanized_area_file'] = urbanized_area_file\n",
    "        data['geoid'] = urbanized_area_file.split('_')[0]\n",
    "        data['urbanized_area'] = urbanized_area_file.strip('_{}'.format(data['geoid'])).replace('.graphml', '').replace('_', ' ')\n",
    "        urbanized_areas.append(data)\n",
    "\n",
    "df = pd.DataFrame(urbanized_areas)\n",
    "len(df)"
   ]
  },
  {
   "cell_type": "markdown",
   "metadata": {},
   "source": [
    "## Load the UAs shapefile"
   ]
  },
  {
   "cell_type": "code",
   "execution_count": 4,
   "metadata": {},
   "outputs": [
    {
     "data": {
      "text/plain": [
       "497"
      ]
     },
     "execution_count": 4,
     "metadata": {},
     "output_type": "execute_result"
    }
   ],
   "source": [
    "gdf = gpd.read_file(uas_folder).sort_values(by='ALAND10', ascending=True)\n",
    "gdf = gdf[~gdf['NAMELSAD10'].str.contains('Urban Cluster')]\n",
    "gdf = gdf[['GEOID10', 'ALAND10']]\n",
    "len(gdf)"
   ]
  },
  {
   "cell_type": "code",
   "execution_count": 5,
   "metadata": {},
   "outputs": [],
   "source": [
    "df = pd.merge(df, gdf, how='left', left_on='geoid', right_on='GEOID10').drop(columns=['GEOID10'])"
   ]
  },
  {
   "cell_type": "markdown",
   "metadata": {},
   "source": [
    "## Calculate the stats"
   ]
  },
  {
   "cell_type": "code",
   "execution_count": 6,
   "metadata": {},
   "outputs": [],
   "source": [
    "def load_graph_get_stats(row):\n",
    "    \n",
    "    start_time = time.time()\n",
    "    name = row['urbanized_area']\n",
    "    geoid = row['geoid']\n",
    "    land_area = row['ALAND10']\n",
    "    \n",
    "    \n",
    "    \n",
    "    try:\n",
    "        folder = '{}/{}'.format(graphml_folder, row['state_folder'])\n",
    "        filename = row['urbanized_area_file']\n",
    "        G = ox.load_graphml(folder=folder, filename=filename)\n",
    "        \n",
    "        stats = ox.basic_stats(G, area=land_area)\n",
    "        stats['name'] = name\n",
    "        stats['geoid'] = geoid\n",
    "        stats['area'] = land_area\n",
    "        \n",
    "        # unpack k-counts and k-proportion dicts into individiual keys:values\n",
    "        for k, count in stats['streets_per_node_counts'].items():\n",
    "            stats['int_{}_streets_count'.format(k)] = count\n",
    "        for k, proportion in stats['streets_per_node_proportion'].items():\n",
    "            stats['int_{}_streets_prop'.format(k)] = proportion\n",
    "            \n",
    "        # calculate/drop the extended stats that have values per node\n",
    "        extended_stats = ox.extended_stats(G)\n",
    "        se = pd.Series(extended_stats)\n",
    "        se = se.drop(['avg_neighbor_degree', 'avg_weighted_neighbor_degree', 'clustering_coefficient',\n",
    "                      'clustering_coefficient_weighted', 'degree_centrality', 'pagerank'])\n",
    "        extended_stats_clean = se.to_dict()\n",
    "        \n",
    "        for key in extended_stats_clean:\n",
    "            stats[key] = extended_stats_clean[key]\n",
    "        \n",
    "        stats['area_km'] = land_area / 1e6\n",
    "        stats['time'] = time.time()-start_time\n",
    "        return pd.Series(stats)\n",
    "\n",
    "    except Exception as e:\n",
    "        print('{} failed: {}'.format(name, e))"
   ]
  },
  {
   "cell_type": "code",
   "execution_count": 7,
   "metadata": {},
   "outputs": [
    {
     "data": {
      "text/plain": [
       "(497, 66)"
      ]
     },
     "execution_count": 7,
     "metadata": {},
     "output_type": "execute_result"
    }
   ],
   "source": [
    "stats_temp = df.apply(load_graph_get_stats, axis=1)\n",
    "stats_temp.shape"
   ]
  },
  {
   "cell_type": "code",
   "execution_count": 8,
   "metadata": {},
   "outputs": [
    {
     "data": {
      "text/plain": [
       "5578.007314920425"
      ]
     },
     "execution_count": 8,
     "metadata": {},
     "output_type": "execute_result"
    }
   ],
   "source": [
    "stats_temp['time'].sum()"
   ]
  },
  {
   "cell_type": "markdown",
   "metadata": {},
   "source": [
    "## Clean up the dataframe"
   ]
  },
  {
   "cell_type": "code",
   "execution_count": 9,
   "metadata": {},
   "outputs": [],
   "source": [
    "stats = stats_temp.copy()"
   ]
  },
  {
   "cell_type": "code",
   "execution_count": 10,
   "metadata": {},
   "outputs": [],
   "source": [
    "# stuff to drop\n",
    "cols_to_drop = ['area', 'time', 'streets_per_node_counts', 'streets_per_node_proportion', \n",
    "                'pagerank_max_node', 'pagerank_min_node', 'clean_intersection_count',\n",
    "                'clean_intersection_density_km']"
   ]
  },
  {
   "cell_type": "code",
   "execution_count": 11,
   "metadata": {},
   "outputs": [],
   "source": [
    "cols_to_rename = {}\n",
    "for col in stats.columns:\n",
    "    if 'int_' in col:\n",
    "        n = col.split('_')[1]\n",
    "        if n not in ['1', '3', '4']:\n",
    "            cols_to_drop.append(col)\n",
    "        else:\n",
    "            suffix = 'count' if 'count' in col else 'proportion'\n",
    "            cols_to_rename[col] = 'intersect_{}way_{}'.format(n, suffix)\n",
    "            \n",
    "stats = stats.drop(cols_to_drop, axis=1)"
   ]
  },
  {
   "cell_type": "code",
   "execution_count": 12,
   "metadata": {},
   "outputs": [],
   "source": [
    "# rename these to friendlier names\n",
    "cols_to_rename['clustering_coefficient_avg'] = 'cluster_coeff_avg'\n",
    "cols_to_rename['clustering_coefficient_weighted_avg'] = 'cluster_coeff_weighted_avg'\n",
    "cols_to_rename['intersection_density_km'] = 'intersect_density_km'\n",
    "cols_to_rename['intersect_1way_count'] = 'dead_end_count'\n",
    "cols_to_rename['intersect_1way_proportion'] = 'dead_end_proportion'\n",
    "cols_to_rename['m'] = 'edge_count'\n",
    "cols_to_rename['n'] = 'node_count'\n",
    "cols_to_rename['name'] = 'urbanized_area'\n",
    "stats = stats.rename(columns=cols_to_rename)\n",
    "stats = stats.rename(columns=cols_to_rename)"
   ]
  },
  {
   "cell_type": "code",
   "execution_count": 13,
   "metadata": {},
   "outputs": [],
   "source": [
    "# drop anything lacking a GEOID\n",
    "stats = stats.dropna(subset=['geoid'])"
   ]
  },
  {
   "cell_type": "code",
   "execution_count": 14,
   "metadata": {},
   "outputs": [],
   "source": [
    "# make these integers\n",
    "cols_int = ['intersection_count', 'edge_length_total', 'edge_count', 'node_count', 'street_segments_count']\n",
    "stats[cols_int] = stats[cols_int].astype(np.int64)"
   ]
  },
  {
   "cell_type": "code",
   "execution_count": 15,
   "metadata": {},
   "outputs": [],
   "source": [
    "# make city, state, geoid at left of df\n",
    "cols = stats.columns.tolist()\n",
    "cols.insert(0, cols.pop(cols.index('urbanized_area')))\n",
    "cols.insert(1, cols.pop(cols.index('geoid')))\n",
    "stats = stats.reindex(columns=cols)"
   ]
  },
  {
   "cell_type": "markdown",
   "metadata": {},
   "source": [
    "## View the results"
   ]
  },
  {
   "cell_type": "code",
   "execution_count": 16,
   "metadata": {},
   "outputs": [
    {
     "data": {
      "text/plain": [
       "(497, 32)"
      ]
     },
     "execution_count": 16,
     "metadata": {},
     "output_type": "execute_result"
    }
   ],
   "source": [
    "stats.shape"
   ]
  },
  {
   "cell_type": "code",
   "execution_count": 17,
   "metadata": {},
   "outputs": [
    {
     "data": {
      "text/plain": [
       "Index(['urbanized_area', 'geoid', 'area_km', 'avg_neighbor_degree_avg',\n",
       "       'avg_weighted_neighbor_degree_avg', 'circuity_avg', 'cluster_coeff_avg',\n",
       "       'cluster_coeff_weighted_avg', 'degree_centrality_avg',\n",
       "       'edge_density_km', 'edge_length_avg', 'edge_length_total',\n",
       "       'dead_end_count', 'dead_end_proportion', 'intersect_3way_count',\n",
       "       'intersect_3way_proportion', 'intersect_4way_count',\n",
       "       'intersect_4way_proportion', 'intersection_count',\n",
       "       'intersect_density_km', 'k_avg', 'edge_count', 'node_count',\n",
       "       'node_density_km', 'pagerank_max', 'pagerank_min',\n",
       "       'self_loop_proportion', 'street_density_km', 'street_length_avg',\n",
       "       'street_length_total', 'street_segments_count', 'streets_per_node_avg'],\n",
       "      dtype='object')"
      ]
     },
     "execution_count": 17,
     "metadata": {},
     "output_type": "execute_result"
    }
   ],
   "source": [
    "stats.columns"
   ]
  },
  {
   "cell_type": "code",
   "execution_count": 18,
   "metadata": {},
   "outputs": [
    {
     "data": {
      "text/html": [
       "<div>\n",
       "<style scoped>\n",
       "    .dataframe tbody tr th:only-of-type {\n",
       "        vertical-align: middle;\n",
       "    }\n",
       "\n",
       "    .dataframe tbody tr th {\n",
       "        vertical-align: top;\n",
       "    }\n",
       "\n",
       "    .dataframe thead th {\n",
       "        text-align: right;\n",
       "    }\n",
       "</style>\n",
       "<table border=\"1\" class=\"dataframe\">\n",
       "  <thead>\n",
       "    <tr style=\"text-align: right;\">\n",
       "      <th></th>\n",
       "      <th>urbanized_area</th>\n",
       "      <th>geoid</th>\n",
       "      <th>area_km</th>\n",
       "      <th>avg_neighbor_degree_avg</th>\n",
       "      <th>avg_weighted_neighbor_degree_avg</th>\n",
       "      <th>circuity_avg</th>\n",
       "      <th>cluster_coeff_avg</th>\n",
       "      <th>cluster_coeff_weighted_avg</th>\n",
       "      <th>degree_centrality_avg</th>\n",
       "      <th>edge_density_km</th>\n",
       "      <th>...</th>\n",
       "      <th>node_count</th>\n",
       "      <th>node_density_km</th>\n",
       "      <th>pagerank_max</th>\n",
       "      <th>pagerank_min</th>\n",
       "      <th>self_loop_proportion</th>\n",
       "      <th>street_density_km</th>\n",
       "      <th>street_length_avg</th>\n",
       "      <th>street_length_total</th>\n",
       "      <th>street_segments_count</th>\n",
       "      <th>streets_per_node_avg</th>\n",
       "    </tr>\n",
       "  </thead>\n",
       "  <tbody>\n",
       "    <tr>\n",
       "      <th>225</th>\n",
       "      <td>Boston MA--NH--RI Urbanized Area</td>\n",
       "      <td>09271</td>\n",
       "      <td>4852.213624</td>\n",
       "      <td>2.758296</td>\n",
       "      <td>0.030111</td>\n",
       "      <td>1.089640</td>\n",
       "      <td>0.051125</td>\n",
       "      <td>0.000592</td>\n",
       "      <td>0.000034</td>\n",
       "      <td>11624.279212</td>\n",
       "      <td>...</td>\n",
       "      <td>146740</td>\n",
       "      <td>30.241867</td>\n",
       "      <td>0.000026</td>\n",
       "      <td>1.026301e-06</td>\n",
       "      <td>0.023993</td>\n",
       "      <td>6381.980932</td>\n",
       "      <td>153.694796</td>\n",
       "      <td>3.096673e+07</td>\n",
       "      <td>201482</td>\n",
       "      <td>2.708171</td>\n",
       "    </tr>\n",
       "    <tr>\n",
       "      <th>364</th>\n",
       "      <td>Philadelphia PA--NJ--DE--MD Urbanized Area</td>\n",
       "      <td>69076</td>\n",
       "      <td>5131.722319</td>\n",
       "      <td>2.805306</td>\n",
       "      <td>0.049110</td>\n",
       "      <td>1.081258</td>\n",
       "      <td>0.049180</td>\n",
       "      <td>0.000385</td>\n",
       "      <td>0.000031</td>\n",
       "      <td>13126.376752</td>\n",
       "      <td>...</td>\n",
       "      <td>164592</td>\n",
       "      <td>32.073442</td>\n",
       "      <td>0.000028</td>\n",
       "      <td>9.154048e-07</td>\n",
       "      <td>0.009922</td>\n",
       "      <td>7296.163610</td>\n",
       "      <td>158.556655</td>\n",
       "      <td>3.744189e+07</td>\n",
       "      <td>236142</td>\n",
       "      <td>2.871215</td>\n",
       "    </tr>\n",
       "    <tr>\n",
       "      <th>162</th>\n",
       "      <td>Chicago IL--IN Urbanized Area</td>\n",
       "      <td>16264</td>\n",
       "      <td>6323.669758</td>\n",
       "      <td>2.941123</td>\n",
       "      <td>0.028676</td>\n",
       "      <td>1.066183</td>\n",
       "      <td>0.036999</td>\n",
       "      <td>0.000655</td>\n",
       "      <td>0.000026</td>\n",
       "      <td>14156.597794</td>\n",
       "      <td>...</td>\n",
       "      <td>209734</td>\n",
       "      <td>33.166501</td>\n",
       "      <td>0.000017</td>\n",
       "      <td>7.181088e-07</td>\n",
       "      <td>0.010919</td>\n",
       "      <td>7837.721468</td>\n",
       "      <td>161.371512</td>\n",
       "      <td>4.956316e+07</td>\n",
       "      <td>307137</td>\n",
       "      <td>2.918173</td>\n",
       "    </tr>\n",
       "    <tr>\n",
       "      <th>136</th>\n",
       "      <td>Atlanta GA Urbanized Area</td>\n",
       "      <td>03817</td>\n",
       "      <td>6850.603579</td>\n",
       "      <td>2.733105</td>\n",
       "      <td>0.028639</td>\n",
       "      <td>1.099946</td>\n",
       "      <td>0.041925</td>\n",
       "      <td>0.000516</td>\n",
       "      <td>0.000024</td>\n",
       "      <td>11582.767638</td>\n",
       "      <td>...</td>\n",
       "      <td>195872</td>\n",
       "      <td>28.591933</td>\n",
       "      <td>0.000021</td>\n",
       "      <td>7.685879e-07</td>\n",
       "      <td>0.010679</td>\n",
       "      <td>6257.247296</td>\n",
       "      <td>177.171438</td>\n",
       "      <td>4.286592e+07</td>\n",
       "      <td>241946</td>\n",
       "      <td>2.466085</td>\n",
       "    </tr>\n",
       "    <tr>\n",
       "      <th>297</th>\n",
       "      <td>New York--Newark NY--NJ--CT Urbanized Area</td>\n",
       "      <td>63217</td>\n",
       "      <td>8934.395320</td>\n",
       "      <td>2.858386</td>\n",
       "      <td>0.033349</td>\n",
       "      <td>1.060921</td>\n",
       "      <td>0.039564</td>\n",
       "      <td>0.000264</td>\n",
       "      <td>0.000014</td>\n",
       "      <td>15764.652896</td>\n",
       "      <td>...</td>\n",
       "      <td>374570</td>\n",
       "      <td>41.924494</td>\n",
       "      <td>0.000019</td>\n",
       "      <td>4.037549e-07</td>\n",
       "      <td>0.006985</td>\n",
       "      <td>8840.077138</td>\n",
       "      <td>147.381830</td>\n",
       "      <td>7.898074e+07</td>\n",
       "      <td>535892</td>\n",
       "      <td>2.857533</td>\n",
       "    </tr>\n",
       "  </tbody>\n",
       "</table>\n",
       "<p>5 rows × 32 columns</p>\n",
       "</div>"
      ],
      "text/plain": [
       "                                 urbanized_area  geoid      area_km  \\\n",
       "225            Boston MA--NH--RI Urbanized Area  09271  4852.213624   \n",
       "364  Philadelphia PA--NJ--DE--MD Urbanized Area  69076  5131.722319   \n",
       "162               Chicago IL--IN Urbanized Area  16264  6323.669758   \n",
       "136                   Atlanta GA Urbanized Area  03817  6850.603579   \n",
       "297  New York--Newark NY--NJ--CT Urbanized Area  63217  8934.395320   \n",
       "\n",
       "     avg_neighbor_degree_avg  avg_weighted_neighbor_degree_avg  circuity_avg  \\\n",
       "225                 2.758296                          0.030111      1.089640   \n",
       "364                 2.805306                          0.049110      1.081258   \n",
       "162                 2.941123                          0.028676      1.066183   \n",
       "136                 2.733105                          0.028639      1.099946   \n",
       "297                 2.858386                          0.033349      1.060921   \n",
       "\n",
       "     cluster_coeff_avg  cluster_coeff_weighted_avg  degree_centrality_avg  \\\n",
       "225           0.051125                    0.000592               0.000034   \n",
       "364           0.049180                    0.000385               0.000031   \n",
       "162           0.036999                    0.000655               0.000026   \n",
       "136           0.041925                    0.000516               0.000024   \n",
       "297           0.039564                    0.000264               0.000014   \n",
       "\n",
       "     edge_density_km          ...           node_count  node_density_km  \\\n",
       "225     11624.279212          ...               146740        30.241867   \n",
       "364     13126.376752          ...               164592        32.073442   \n",
       "162     14156.597794          ...               209734        33.166501   \n",
       "136     11582.767638          ...               195872        28.591933   \n",
       "297     15764.652896          ...               374570        41.924494   \n",
       "\n",
       "     pagerank_max  pagerank_min  self_loop_proportion  street_density_km  \\\n",
       "225      0.000026  1.026301e-06              0.023993        6381.980932   \n",
       "364      0.000028  9.154048e-07              0.009922        7296.163610   \n",
       "162      0.000017  7.181088e-07              0.010919        7837.721468   \n",
       "136      0.000021  7.685879e-07              0.010679        6257.247296   \n",
       "297      0.000019  4.037549e-07              0.006985        8840.077138   \n",
       "\n",
       "     street_length_avg  street_length_total  street_segments_count  \\\n",
       "225         153.694796         3.096673e+07                 201482   \n",
       "364         158.556655         3.744189e+07                 236142   \n",
       "162         161.371512         4.956316e+07                 307137   \n",
       "136         177.171438         4.286592e+07                 241946   \n",
       "297         147.381830         7.898074e+07                 535892   \n",
       "\n",
       "     streets_per_node_avg  \n",
       "225              2.708171  \n",
       "364              2.871215  \n",
       "162              2.918173  \n",
       "136              2.466085  \n",
       "297              2.857533  \n",
       "\n",
       "[5 rows x 32 columns]"
      ]
     },
     "execution_count": 18,
     "metadata": {},
     "output_type": "execute_result"
    }
   ],
   "source": [
    "stats.sort_values('area_km').tail()"
   ]
  },
  {
   "cell_type": "markdown",
   "metadata": {},
   "source": [
    "## Save to disk"
   ]
  },
  {
   "cell_type": "code",
   "execution_count": 19,
   "metadata": {},
   "outputs": [],
   "source": [
    "if not os.path.exists(stats_folder):\n",
    "    os.makedirs(stats_folder)\n",
    "output_path = '{}/urbanized_areas-stats.csv'.format(stats_folder)\n",
    "stats.to_csv(output_path, encoding='utf-8', index=False)"
   ]
  },
  {
   "cell_type": "code",
   "execution_count": null,
   "metadata": {},
   "outputs": [],
   "source": []
  }
 ],
 "metadata": {
  "anaconda-cloud": {},
  "kernelspec": {
   "display_name": "Python 3",
   "language": "python",
   "name": "python3"
  },
  "language_info": {
   "codemirror_mode": {
    "name": "ipython",
    "version": 3
   },
   "file_extension": ".py",
   "mimetype": "text/x-python",
   "name": "python",
   "nbconvert_exporter": "python",
   "pygments_lexer": "ipython3",
   "version": "3.6.5"
  }
 },
 "nbformat": 4,
 "nbformat_minor": 1
}
