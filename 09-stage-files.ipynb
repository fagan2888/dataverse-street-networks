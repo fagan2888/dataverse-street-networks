{
 "cells": [
  {
   "cell_type": "markdown",
   "metadata": {},
   "source": [
    "## Zip all data files into a staging area for upload to Dataverse"
   ]
  },
  {
   "cell_type": "code",
   "execution_count": 1,
   "metadata": {},
   "outputs": [],
   "source": [
    "import config\n",
    "import os\n",
    "import zipfile"
   ]
  },
  {
   "cell_type": "code",
   "execution_count": 2,
   "metadata": {},
   "outputs": [],
   "source": [
    "manifest = [{'input':config.cities_graphml_folder, 'output':'cities-street_networks-graphml'},\n",
    "            {'input':config.cities_shapefile_folder, 'output':'cities-street_networks-shapefiles'},\n",
    "            {'input':config.neighborhoods_graphml_folder, 'output':'neighborhoods-street_networks-graphml'},\n",
    "            {'input':config.neighborhoods_shapefile_folder, 'output':'neighborhoods-street_networks-shapefiles'},\n",
    "            {'input':config.urbanized_areas_graphml_folder, 'output':'urbanized_areas-street_networks-graphml'},\n",
    "            {'input':config.urbanized_areas_shapefile_folder, 'output':'urbanized_areas-street_networks-shapefiles'}]"
   ]
  },
  {
   "cell_type": "code",
   "execution_count": 3,
   "metadata": {},
   "outputs": [],
   "source": [
    "# zip a whole directory\n",
    "def zip_dir(input_path, output_folder, output_file):\n",
    "    \n",
    "    if not os.path.exists(output_folder):\n",
    "        os.makedirs(output_folder)\n",
    "    \n",
    "    output_path = '{}/{}.zip'.format(output_folder, output_file)\n",
    "    zf = zipfile.ZipFile(file=output_path, mode='w', compression=zipfile.ZIP_DEFLATED)\n",
    "    \n",
    "    for root, folders, files in os.walk(input_path):\n",
    "        for file in files:\n",
    "            input_file = os.path.join(root, file)\n",
    "            \n",
    "            # preserve the relative path below the state level in the zip archive\n",
    "            pattern = '/shapefiles/' if '/shapefiles/' in input_file else '/graphml/'\n",
    "            arcname = input_file[input_file.find(pattern) + len(pattern) + 6:]\n",
    "            zf.write(filename=os.path.join(root, file), arcname=arcname)\n",
    "\n",
    "    zf.close()"
   ]
  },
  {
   "cell_type": "code",
   "execution_count": 4,
   "metadata": {},
   "outputs": [
    {
     "name": "stdout",
     "output_type": "stream",
     "text": [
      "cities-street_networks-graphml\n",
      "cities-street_networks-shapefiles\n",
      "neighborhoods-street_networks-graphml\n",
      "neighborhoods-street_networks-shapefiles\n",
      "urbanized_areas-street_networks-graphml\n",
      "urbanized_areas-street_networks-shapefiles\n",
      "Wall time: 2h 24min 35s\n"
     ]
    }
   ],
   "source": [
    "%%time\n",
    "for item in manifest:\n",
    "    print(item['output'])\n",
    "    for state_folder in os.listdir(item['input']):\n",
    "\n",
    "        input_path = '{}/{}'.format(item['input'], state_folder)\n",
    "        output_folder = '{}/{}'.format(config.staging_folder, item['output'])\n",
    "        output_file = '{}-{}'.format(state_folder.replace('_', '-'), item['output'])\n",
    "        zip_dir(input_path, output_folder, output_file)"
   ]
  },
  {
   "cell_type": "code",
   "execution_count": null,
   "metadata": {},
   "outputs": [],
   "source": []
  }
 ],
 "metadata": {
  "kernelspec": {
   "display_name": "Python 3",
   "language": "python",
   "name": "python3"
  },
  "language_info": {
   "codemirror_mode": {
    "name": "ipython",
    "version": 3
   },
   "file_extension": ".py",
   "mimetype": "text/x-python",
   "name": "python",
   "nbconvert_exporter": "python",
   "pygments_lexer": "ipython3",
   "version": "3.6.5"
  }
 },
 "nbformat": 4,
 "nbformat_minor": 2
}
