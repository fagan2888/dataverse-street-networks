{
 "cells": [
  {
   "cell_type": "code",
   "execution_count": 1,
   "metadata": {},
   "outputs": [
    {
     "name": "stdout",
     "output_type": "stream",
     "text": [
      "0.7.4\n",
      "2.1\n"
     ]
    }
   ],
   "source": [
    "import ast\n",
    "import config\n",
    "import geopandas as gpd\n",
    "import json\n",
    "import networkx as nx\n",
    "import numpy as np\n",
    "import os\n",
    "import osmnx as ox\n",
    "import pandas as pd\n",
    "import time\n",
    "\n",
    "ox.config(use_cache=True,\n",
    "          log_file=True,\n",
    "          log_console=True,\n",
    "          log_filename='calculate-neighborhoods',\n",
    "          cache_folder=config.neighborhoods_cache_folder)\n",
    "\n",
    "print(ox.__version__)\n",
    "print(nx.__version__)"
   ]
  },
  {
   "cell_type": "code",
   "execution_count": 2,
   "metadata": {},
   "outputs": [],
   "source": [
    "graphml_folder = config.neighborhoods_graphml_folder\n",
    "stats_folder = config.neighborhoods_stats_folder"
   ]
  },
  {
   "cell_type": "code",
   "execution_count": 3,
   "metadata": {},
   "outputs": [
    {
     "data": {
      "text/plain": [
       "(16579, 6)"
      ]
     },
     "execution_count": 3,
     "metadata": {},
     "output_type": "execute_result"
    }
   ],
   "source": [
    "nhoods = []\n",
    "for state_folder in os.listdir(graphml_folder):\n",
    "    for city_folder in os.listdir('{}/{}'.format(graphml_folder, state_folder)):\n",
    "        for nhood_file in os.listdir('{}/{}/{}'.format(graphml_folder, state_folder, city_folder)):\n",
    "            if '.graphml' in nhood_file:\n",
    "                data = {}\n",
    "                data['state_fips'] = state_folder.split('_')[0]\n",
    "                data['state'] = state_folder.split('_')[1]\n",
    "                data['city'] = city_folder\n",
    "                data['nhood'] = nhood_file.replace('.graphml', '').replace('_', ' ')\n",
    "                data['path'] = '{}/{}/{}'.format(graphml_folder, state_folder, city_folder)\n",
    "                data['file'] = nhood_file\n",
    "                nhoods.append(data)\n",
    "\n",
    "df = pd.DataFrame(nhoods)\n",
    "df.shape"
   ]
  },
  {
   "cell_type": "code",
   "execution_count": 4,
   "metadata": {},
   "outputs": [
    {
     "data": {
      "text/html": [
       "<div>\n",
       "<style scoped>\n",
       "    .dataframe tbody tr th:only-of-type {\n",
       "        vertical-align: middle;\n",
       "    }\n",
       "\n",
       "    .dataframe tbody tr th {\n",
       "        vertical-align: top;\n",
       "    }\n",
       "\n",
       "    .dataframe thead th {\n",
       "        text-align: right;\n",
       "    }\n",
       "</style>\n",
       "<table border=\"1\" class=\"dataframe\">\n",
       "  <thead>\n",
       "    <tr style=\"text-align: right;\">\n",
       "      <th></th>\n",
       "      <th>city</th>\n",
       "      <th>file</th>\n",
       "      <th>nhood</th>\n",
       "      <th>path</th>\n",
       "      <th>state</th>\n",
       "      <th>state_fips</th>\n",
       "    </tr>\n",
       "  </thead>\n",
       "  <tbody>\n",
       "    <tr>\n",
       "      <th>0</th>\n",
       "      <td>Birmingham</td>\n",
       "      <td>Acipco-Finley.graphml</td>\n",
       "      <td>Acipco-Finley</td>\n",
       "      <td>G:/Geoff/osmnx/data/neighborhoods/graphml/01_A...</td>\n",
       "      <td>AL</td>\n",
       "      <td>01</td>\n",
       "    </tr>\n",
       "    <tr>\n",
       "      <th>1</th>\n",
       "      <td>Birmingham</td>\n",
       "      <td>Airport_Highlands.graphml</td>\n",
       "      <td>Airport Highlands</td>\n",
       "      <td>G:/Geoff/osmnx/data/neighborhoods/graphml/01_A...</td>\n",
       "      <td>AL</td>\n",
       "      <td>01</td>\n",
       "    </tr>\n",
       "    <tr>\n",
       "      <th>2</th>\n",
       "      <td>Birmingham</td>\n",
       "      <td>Arlington-West_End.graphml</td>\n",
       "      <td>Arlington-West End</td>\n",
       "      <td>G:/Geoff/osmnx/data/neighborhoods/graphml/01_A...</td>\n",
       "      <td>AL</td>\n",
       "      <td>01</td>\n",
       "    </tr>\n",
       "    <tr>\n",
       "      <th>3</th>\n",
       "      <td>Birmingham</td>\n",
       "      <td>Belview_Heights.graphml</td>\n",
       "      <td>Belview Heights</td>\n",
       "      <td>G:/Geoff/osmnx/data/neighborhoods/graphml/01_A...</td>\n",
       "      <td>AL</td>\n",
       "      <td>01</td>\n",
       "    </tr>\n",
       "    <tr>\n",
       "      <th>4</th>\n",
       "      <td>Birmingham</td>\n",
       "      <td>Bridlewood.graphml</td>\n",
       "      <td>Bridlewood</td>\n",
       "      <td>G:/Geoff/osmnx/data/neighborhoods/graphml/01_A...</td>\n",
       "      <td>AL</td>\n",
       "      <td>01</td>\n",
       "    </tr>\n",
       "  </tbody>\n",
       "</table>\n",
       "</div>"
      ],
      "text/plain": [
       "         city                        file               nhood  \\\n",
       "0  Birmingham       Acipco-Finley.graphml       Acipco-Finley   \n",
       "1  Birmingham   Airport_Highlands.graphml   Airport Highlands   \n",
       "2  Birmingham  Arlington-West_End.graphml  Arlington-West End   \n",
       "3  Birmingham     Belview_Heights.graphml     Belview Heights   \n",
       "4  Birmingham          Bridlewood.graphml          Bridlewood   \n",
       "\n",
       "                                                path state state_fips  \n",
       "0  G:/Geoff/osmnx/data/neighborhoods/graphml/01_A...    AL         01  \n",
       "1  G:/Geoff/osmnx/data/neighborhoods/graphml/01_A...    AL         01  \n",
       "2  G:/Geoff/osmnx/data/neighborhoods/graphml/01_A...    AL         01  \n",
       "3  G:/Geoff/osmnx/data/neighborhoods/graphml/01_A...    AL         01  \n",
       "4  G:/Geoff/osmnx/data/neighborhoods/graphml/01_A...    AL         01  "
      ]
     },
     "execution_count": 4,
     "metadata": {},
     "output_type": "execute_result"
    }
   ],
   "source": [
    "df.head()"
   ]
  },
  {
   "cell_type": "markdown",
   "metadata": {},
   "source": [
    "## Load graph and calculate stats for each neighborhood"
   ]
  },
  {
   "cell_type": "code",
   "execution_count": 5,
   "metadata": {},
   "outputs": [],
   "source": [
    "def load_graph_get_stats(row):\n",
    "    \n",
    "    try:\n",
    "        start_time = time.time()\n",
    "        G = ox.load_graphml(filename=row['file'], folder=row['path'])\n",
    "        nhood_area_m = float(G.graph['nhood_area_m'])\n",
    "        \n",
    "        stats = ox.basic_stats(G, area=nhood_area_m)\n",
    "        stats['nhood'] = row['nhood']\n",
    "        stats['city'] = row['city']\n",
    "        stats['state'] = row['state']\n",
    "        \n",
    "        # calculate/drop the extended stats that have values per node\n",
    "        extended_stats = ox.extended_stats(G)\n",
    "        se = pd.Series(extended_stats)\n",
    "        se = se.drop(['avg_neighbor_degree', 'avg_weighted_neighbor_degree', 'clustering_coefficient',\n",
    "                      'clustering_coefficient_weighted', 'degree_centrality', 'pagerank'])\n",
    "        extended_stats_clean = se.to_dict()\n",
    "        \n",
    "        for key in extended_stats_clean:\n",
    "            stats[key] = extended_stats_clean[key]\n",
    "        \n",
    "        stats['area_km'] = nhood_area_m / 1e6\n",
    "        stats['area'] = nhood_area_m\n",
    "        stats['time'] = time.time()-start_time\n",
    "        return pd.Series(stats)\n",
    "\n",
    "    except Exception as e:\n",
    "        print('{}, {}, {} failed: {}'.format(row['nhood'], row['city'], row['state'], e))\n",
    "        return pd.Series()"
   ]
  },
  {
   "cell_type": "code",
   "execution_count": 6,
   "metadata": {},
   "outputs": [
    {
     "name": "stderr",
     "output_type": "stream",
     "text": [
      "C:\\Anaconda\\lib\\site-packages\\osmnx\\stats.py:201: RuntimeWarning: divide by zero encountered in double_scalars\n",
      "  circuity_avg = edge_length_total / gc_distances.sum()\n"
     ]
    },
    {
     "name": "stdout",
     "output_type": "stream",
     "text": [
      "Arbor Walk, Gilbert, AZ failed: float division by zero\n",
      "Sombras del Cerro, Tucson, AZ failed: float division by zero\n",
      "Winding Wood 2, Clearwater, FL failed: float division by zero\n",
      "Winding Wood No.4 Condominium Association, Clearwater, FL failed: float division by zero\n",
      "Fair Isle, Miami, FL failed: float division by zero\n",
      "Cedar Ridge, Fort_Wayne, IN failed: float division by zero\n",
      "Centaur Acres, Fort_Wayne, IN failed: float division by zero\n",
      "Foxchase, Fort_Wayne, IN failed: float division by zero\n",
      "Autumn Chase, Nashville, TN failed: float division by zero\n",
      "McMurray Court, Nashville, TN failed: float division by zero\n",
      "Churchill Heights, San_Antonio, TX failed: float division by zero\n",
      "Wynnwood Condominium, San_Antonio, TX failed: float division by zero\n",
      "Riverside Manoe, Fredericksburg, VA failed: float division by zero\n"
     ]
    },
    {
     "data": {
      "text/plain": [
       "(16579, 35)"
      ]
     },
     "execution_count": 6,
     "metadata": {},
     "output_type": "execute_result"
    }
   ],
   "source": [
    "#sample = list(range(0, len(df), int(len(df)/100)))\n",
    "#stats = df.iloc[sample].apply(load_graph_get_stats, axis=1)\n",
    "stats_temp = df.apply(load_graph_get_stats, axis=1)\n",
    "stats_temp.shape"
   ]
  },
  {
   "cell_type": "code",
   "execution_count": 7,
   "metadata": {},
   "outputs": [
    {
     "data": {
      "text/plain": [
       "2284.8561108112335"
      ]
     },
     "execution_count": 7,
     "metadata": {},
     "output_type": "execute_result"
    }
   ],
   "source": [
    "stats_temp['time'].sum()"
   ]
  },
  {
   "cell_type": "markdown",
   "metadata": {},
   "source": [
    "## Clean up the dataframe"
   ]
  },
  {
   "cell_type": "code",
   "execution_count": 8,
   "metadata": {},
   "outputs": [],
   "source": [
    "stats = stats_temp.copy()"
   ]
  },
  {
   "cell_type": "code",
   "execution_count": 9,
   "metadata": {},
   "outputs": [],
   "source": [
    "def get_count(s, key):\n",
    "    try:\n",
    "        c = s[key]\n",
    "    except:\n",
    "        c = None\n",
    "    return c\n",
    "\n",
    "def get_prop(s, key):\n",
    "    try:\n",
    "        d = s\n",
    "        p = d[key] / sum(d.values())\n",
    "    except:\n",
    "        p = None\n",
    "    return p"
   ]
  },
  {
   "cell_type": "code",
   "execution_count": 10,
   "metadata": {},
   "outputs": [],
   "source": [
    "stats['dead_end_count'] = stats['streets_per_node_counts'].apply(get_count, key=1)\n",
    "stats['dead_end_proportion'] = stats['streets_per_node_counts'].apply(get_prop, key=1)\n",
    "stats['intersect_3way_count'] = stats['streets_per_node_counts'].apply(get_count, key=3)\n",
    "stats['intersect_3way_proportion'] = stats['streets_per_node_counts'].apply(get_prop, key=3)\n",
    "stats['intersect_4way_count'] = stats['streets_per_node_counts'].apply(get_count, key=4)\n",
    "stats['intersect_4way_proportion'] = stats['streets_per_node_counts'].apply(get_prop, key=4)"
   ]
  },
  {
   "cell_type": "code",
   "execution_count": 11,
   "metadata": {},
   "outputs": [],
   "source": [
    "# stuff to drop\n",
    "cols_to_drop = ['area', 'time', 'streets_per_node_counts', 'streets_per_node_proportion', \n",
    "                'pagerank_max_node', 'pagerank_min_node', 'clean_intersection_count',\n",
    "                'clean_intersection_density_km']"
   ]
  },
  {
   "cell_type": "code",
   "execution_count": 12,
   "metadata": {},
   "outputs": [],
   "source": [
    "cols_to_rename = {}\n",
    "for col in stats.columns:\n",
    "    if 'int_' in col:\n",
    "        n = col.split('_')[1]\n",
    "        if n not in ['1', '3', '4']:\n",
    "            cols_to_drop.append(col)\n",
    "        else:\n",
    "            suffix = 'count' if 'count' in col else 'proportion'\n",
    "            cols_to_rename[col] = 'intersect_{}way_{}'.format(n, suffix)\n",
    "            \n",
    "stats = stats.drop(cols_to_drop, axis=1)"
   ]
  },
  {
   "cell_type": "code",
   "execution_count": 13,
   "metadata": {},
   "outputs": [],
   "source": [
    "# rename these to friendlier names\n",
    "cols_to_rename['clustering_coefficient_avg'] = 'cluster_coeff_avg'\n",
    "cols_to_rename['clustering_coefficient_weighted_avg'] = 'cluster_coeff_weighted_avg'\n",
    "cols_to_rename['intersection_density_km'] = 'intersect_density_km'\n",
    "cols_to_rename['intersect_1way_count'] = 'dead_end_count'\n",
    "cols_to_rename['intersect_1way_proportion'] = 'dead_end_proportion'\n",
    "cols_to_rename['m'] = 'edge_count'\n",
    "cols_to_rename['n'] = 'node_count'\n",
    "cols_to_rename['nhood'] = 'zillow_neighborhood'\n",
    "stats = stats.rename(columns=cols_to_rename)\n",
    "stats = stats.rename(columns=cols_to_rename)"
   ]
  },
  {
   "cell_type": "code",
   "execution_count": 14,
   "metadata": {},
   "outputs": [],
   "source": [
    "# make these integers\n",
    "cols_int = ['intersection_count', 'edge_length_total', 'edge_count', 'node_count', 'street_segments_count']\n",
    "stats = stats.dropna(subset=cols_int)\n",
    "stats[cols_int] = stats[cols_int].astype(np.int64)"
   ]
  },
  {
   "cell_type": "code",
   "execution_count": 15,
   "metadata": {},
   "outputs": [],
   "source": [
    "# make city, state at left of df\n",
    "cols = stats.columns.tolist()\n",
    "cols.insert(0, cols.pop(cols.index('zillow_neighborhood')))\n",
    "cols.insert(1, cols.pop(cols.index('city')))\n",
    "cols.insert(2, cols.pop(cols.index('state')))\n",
    "stats = stats.reindex(columns=cols)"
   ]
  },
  {
   "cell_type": "markdown",
   "metadata": {},
   "source": [
    "## View the results"
   ]
  },
  {
   "cell_type": "code",
   "execution_count": 16,
   "metadata": {},
   "outputs": [
    {
     "data": {
      "text/plain": [
       "(16566, 33)"
      ]
     },
     "execution_count": 16,
     "metadata": {},
     "output_type": "execute_result"
    }
   ],
   "source": [
    "stats.shape"
   ]
  },
  {
   "cell_type": "code",
   "execution_count": 17,
   "metadata": {},
   "outputs": [
    {
     "data": {
      "text/plain": [
       "Index(['zillow_neighborhood', 'city', 'state', 'area_km',\n",
       "       'avg_neighbor_degree_avg', 'avg_weighted_neighbor_degree_avg',\n",
       "       'circuity_avg', 'cluster_coeff_avg', 'cluster_coeff_weighted_avg',\n",
       "       'degree_centrality_avg', 'edge_density_km', 'edge_length_avg',\n",
       "       'edge_length_total', 'intersection_count', 'intersect_density_km',\n",
       "       'k_avg', 'edge_count', 'node_count', 'node_density_km', 'pagerank_max',\n",
       "       'pagerank_min', 'self_loop_proportion', 'street_density_km',\n",
       "       'street_length_avg', 'street_length_total', 'street_segments_count',\n",
       "       'streets_per_node_avg', 'dead_end_count', 'dead_end_proportion',\n",
       "       'intersect_3way_count', 'intersect_3way_proportion',\n",
       "       'intersect_4way_count', 'intersect_4way_proportion'],\n",
       "      dtype='object')"
      ]
     },
     "execution_count": 17,
     "metadata": {},
     "output_type": "execute_result"
    }
   ],
   "source": [
    "stats.columns"
   ]
  },
  {
   "cell_type": "code",
   "execution_count": 18,
   "metadata": {},
   "outputs": [
    {
     "data": {
      "text/html": [
       "<div>\n",
       "<style scoped>\n",
       "    .dataframe tbody tr th:only-of-type {\n",
       "        vertical-align: middle;\n",
       "    }\n",
       "\n",
       "    .dataframe tbody tr th {\n",
       "        vertical-align: top;\n",
       "    }\n",
       "\n",
       "    .dataframe thead th {\n",
       "        text-align: right;\n",
       "    }\n",
       "</style>\n",
       "<table border=\"1\" class=\"dataframe\">\n",
       "  <thead>\n",
       "    <tr style=\"text-align: right;\">\n",
       "      <th></th>\n",
       "      <th>zillow_neighborhood</th>\n",
       "      <th>city</th>\n",
       "      <th>state</th>\n",
       "      <th>area_km</th>\n",
       "      <th>avg_neighbor_degree_avg</th>\n",
       "      <th>avg_weighted_neighbor_degree_avg</th>\n",
       "      <th>circuity_avg</th>\n",
       "      <th>cluster_coeff_avg</th>\n",
       "      <th>cluster_coeff_weighted_avg</th>\n",
       "      <th>degree_centrality_avg</th>\n",
       "      <th>...</th>\n",
       "      <th>street_length_avg</th>\n",
       "      <th>street_length_total</th>\n",
       "      <th>street_segments_count</th>\n",
       "      <th>streets_per_node_avg</th>\n",
       "      <th>dead_end_count</th>\n",
       "      <th>dead_end_proportion</th>\n",
       "      <th>intersect_3way_count</th>\n",
       "      <th>intersect_3way_proportion</th>\n",
       "      <th>intersect_4way_count</th>\n",
       "      <th>intersect_4way_proportion</th>\n",
       "    </tr>\n",
       "  </thead>\n",
       "  <tbody>\n",
       "    <tr>\n",
       "      <th>0</th>\n",
       "      <td>Acipco-Finley</td>\n",
       "      <td>Birmingham</td>\n",
       "      <td>AL</td>\n",
       "      <td>4.020022</td>\n",
       "      <td>3.086228</td>\n",
       "      <td>0.032680</td>\n",
       "      <td>1.044219</td>\n",
       "      <td>0.033533</td>\n",
       "      <td>0.002700</td>\n",
       "      <td>0.032609</td>\n",
       "      <td>...</td>\n",
       "      <td>141.604281</td>\n",
       "      <td>34268.236</td>\n",
       "      <td>242</td>\n",
       "      <td>3.047904</td>\n",
       "      <td>29.0</td>\n",
       "      <td>0.173653</td>\n",
       "      <td>73.0</td>\n",
       "      <td>0.437126</td>\n",
       "      <td>64.0</td>\n",
       "      <td>0.383234</td>\n",
       "    </tr>\n",
       "    <tr>\n",
       "      <th>1</th>\n",
       "      <td>Airport Highlands</td>\n",
       "      <td>Birmingham</td>\n",
       "      <td>AL</td>\n",
       "      <td>0.785442</td>\n",
       "      <td>2.991870</td>\n",
       "      <td>0.026805</td>\n",
       "      <td>1.024278</td>\n",
       "      <td>0.000000</td>\n",
       "      <td>0.000000</td>\n",
       "      <td>0.129268</td>\n",
       "      <td>...</td>\n",
       "      <td>134.389113</td>\n",
       "      <td>7122.623</td>\n",
       "      <td>53</td>\n",
       "      <td>2.951220</td>\n",
       "      <td>7.0</td>\n",
       "      <td>0.170732</td>\n",
       "      <td>22.0</td>\n",
       "      <td>0.536585</td>\n",
       "      <td>12.0</td>\n",
       "      <td>0.292683</td>\n",
       "    </tr>\n",
       "    <tr>\n",
       "      <th>2</th>\n",
       "      <td>Arlington-West End</td>\n",
       "      <td>Birmingham</td>\n",
       "      <td>AL</td>\n",
       "      <td>4.759317</td>\n",
       "      <td>3.227658</td>\n",
       "      <td>0.033935</td>\n",
       "      <td>1.006820</td>\n",
       "      <td>0.025431</td>\n",
       "      <td>0.003191</td>\n",
       "      <td>0.025228</td>\n",
       "      <td>...</td>\n",
       "      <td>119.870222</td>\n",
       "      <td>41594.967</td>\n",
       "      <td>347</td>\n",
       "      <td>3.137931</td>\n",
       "      <td>28.0</td>\n",
       "      <td>0.120690</td>\n",
       "      <td>117.0</td>\n",
       "      <td>0.504310</td>\n",
       "      <td>83.0</td>\n",
       "      <td>0.357759</td>\n",
       "    </tr>\n",
       "    <tr>\n",
       "      <th>3</th>\n",
       "      <td>Belview Heights</td>\n",
       "      <td>Birmingham</td>\n",
       "      <td>AL</td>\n",
       "      <td>2.770418</td>\n",
       "      <td>3.156477</td>\n",
       "      <td>0.035901</td>\n",
       "      <td>1.007829</td>\n",
       "      <td>0.053566</td>\n",
       "      <td>0.014086</td>\n",
       "      <td>0.026354</td>\n",
       "      <td>...</td>\n",
       "      <td>109.565782</td>\n",
       "      <td>39114.984</td>\n",
       "      <td>357</td>\n",
       "      <td>3.393013</td>\n",
       "      <td>11.0</td>\n",
       "      <td>0.048035</td>\n",
       "      <td>107.0</td>\n",
       "      <td>0.467249</td>\n",
       "      <td>110.0</td>\n",
       "      <td>0.480349</td>\n",
       "    </tr>\n",
       "    <tr>\n",
       "      <th>4</th>\n",
       "      <td>Bridlewood</td>\n",
       "      <td>Birmingham</td>\n",
       "      <td>AL</td>\n",
       "      <td>0.808771</td>\n",
       "      <td>2.457317</td>\n",
       "      <td>0.024315</td>\n",
       "      <td>1.062857</td>\n",
       "      <td>0.020325</td>\n",
       "      <td>0.009246</td>\n",
       "      <td>0.100000</td>\n",
       "      <td>...</td>\n",
       "      <td>140.148780</td>\n",
       "      <td>5746.100</td>\n",
       "      <td>41</td>\n",
       "      <td>2.585366</td>\n",
       "      <td>12.0</td>\n",
       "      <td>0.292683</td>\n",
       "      <td>22.0</td>\n",
       "      <td>0.536585</td>\n",
       "      <td>7.0</td>\n",
       "      <td>0.170732</td>\n",
       "    </tr>\n",
       "  </tbody>\n",
       "</table>\n",
       "<p>5 rows × 33 columns</p>\n",
       "</div>"
      ],
      "text/plain": [
       "  zillow_neighborhood        city state   area_km  avg_neighbor_degree_avg  \\\n",
       "0       Acipco-Finley  Birmingham    AL  4.020022                 3.086228   \n",
       "1   Airport Highlands  Birmingham    AL  0.785442                 2.991870   \n",
       "2  Arlington-West End  Birmingham    AL  4.759317                 3.227658   \n",
       "3     Belview Heights  Birmingham    AL  2.770418                 3.156477   \n",
       "4          Bridlewood  Birmingham    AL  0.808771                 2.457317   \n",
       "\n",
       "   avg_weighted_neighbor_degree_avg  circuity_avg  cluster_coeff_avg  \\\n",
       "0                          0.032680      1.044219           0.033533   \n",
       "1                          0.026805      1.024278           0.000000   \n",
       "2                          0.033935      1.006820           0.025431   \n",
       "3                          0.035901      1.007829           0.053566   \n",
       "4                          0.024315      1.062857           0.020325   \n",
       "\n",
       "   cluster_coeff_weighted_avg  degree_centrality_avg  \\\n",
       "0                    0.002700               0.032609   \n",
       "1                    0.000000               0.129268   \n",
       "2                    0.003191               0.025228   \n",
       "3                    0.014086               0.026354   \n",
       "4                    0.009246               0.100000   \n",
       "\n",
       "             ...              street_length_avg  street_length_total  \\\n",
       "0            ...                     141.604281            34268.236   \n",
       "1            ...                     134.389113             7122.623   \n",
       "2            ...                     119.870222            41594.967   \n",
       "3            ...                     109.565782            39114.984   \n",
       "4            ...                     140.148780             5746.100   \n",
       "\n",
       "   street_segments_count  streets_per_node_avg  dead_end_count  \\\n",
       "0                    242              3.047904            29.0   \n",
       "1                     53              2.951220             7.0   \n",
       "2                    347              3.137931            28.0   \n",
       "3                    357              3.393013            11.0   \n",
       "4                     41              2.585366            12.0   \n",
       "\n",
       "   dead_end_proportion  intersect_3way_count  intersect_3way_proportion  \\\n",
       "0             0.173653                  73.0                   0.437126   \n",
       "1             0.170732                  22.0                   0.536585   \n",
       "2             0.120690                 117.0                   0.504310   \n",
       "3             0.048035                 107.0                   0.467249   \n",
       "4             0.292683                  22.0                   0.536585   \n",
       "\n",
       "   intersect_4way_count  intersect_4way_proportion  \n",
       "0                  64.0                   0.383234  \n",
       "1                  12.0                   0.292683  \n",
       "2                  83.0                   0.357759  \n",
       "3                 110.0                   0.480349  \n",
       "4                   7.0                   0.170732  \n",
       "\n",
       "[5 rows x 33 columns]"
      ]
     },
     "execution_count": 18,
     "metadata": {},
     "output_type": "execute_result"
    }
   ],
   "source": [
    "stats.head()"
   ]
  },
  {
   "cell_type": "markdown",
   "metadata": {},
   "source": [
    "## Save to disk"
   ]
  },
  {
   "cell_type": "code",
   "execution_count": 19,
   "metadata": {},
   "outputs": [],
   "source": [
    "if not os.path.exists(stats_folder):\n",
    "    os.makedirs(stats_folder)\n",
    "output_path = '{}/neighborhoods-stats.csv'.format(stats_folder)\n",
    "stats.to_csv(output_path, encoding='utf-8', index=False)"
   ]
  },
  {
   "cell_type": "code",
   "execution_count": null,
   "metadata": {},
   "outputs": [],
   "source": []
  }
 ],
 "metadata": {
  "anaconda-cloud": {},
  "kernelspec": {
   "display_name": "Python 3",
   "language": "python",
   "name": "python3"
  },
  "language_info": {
   "codemirror_mode": {
    "name": "ipython",
    "version": 3
   },
   "file_extension": ".py",
   "mimetype": "text/x-python",
   "name": "python",
   "nbconvert_exporter": "python",
   "pygments_lexer": "ipython3",
   "version": "3.6.5"
  }
 },
 "nbformat": 4,
 "nbformat_minor": 1
}
